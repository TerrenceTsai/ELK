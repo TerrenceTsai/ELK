{
 "cells": [
  {
   "cell_type": "code",
   "execution_count": null,
   "metadata": {},
   "outputs": [],
   "source": [
    "import asyncio\n",
    "loop = asyncio.get_event_loop()\n",
    "\n",
    "async def hello():\n",
    "    print('Hello')\n",
    "    await asyncio.sleep(3)\n",
    "    print('World!')\n",
    "\n",
    "if __name__ == '__main__':\n",
    "    loop.run_until_complete(hello())"
   ]
  },
  {
   "cell_type": "code",
   "execution_count": null,
   "metadata": {},
   "outputs": [],
   "source": [
    "from greenlet import sleep\n",
    "\n",
    "def hello():\n",
    "    sleep(3)\n",
    "    print('Hello!')\n",
    "\n",
    "if __name__ == '__main__':\n",
    "    for i in range(10):\n",
    "        hello()"
   ]
  },
  {
   "cell_type": "code",
   "execution_count": null,
   "metadata": {},
   "outputs": [],
   "source": [
    "# do this for every iteration of the loop\n",
    "await asyncio.sleep(0)"
   ]
  },
  {
   "cell_type": "code",
   "execution_count": null,
   "metadata": {},
   "outputs": [],
   "source": [
    "# can't do:\n",
    "socket.*\n",
    "select.*\n",
    "subprocess.*\n",
    "os.waitpid.*\n",
    "threading.*\n",
    "multiprocessing.*\n",
    "time.sleep\n",
    "\n",
    "# use eventlet, gevent for monkey-patch"
   ]
  },
  {
   "cell_type": "code",
   "execution_count": null,
   "metadata": {},
   "outputs": [],
   "source": [
    ""
   ]
  },
  {
   "cell_type": "code",
   "execution_count": null,
   "metadata": {},
   "outputs": [],
   "source": [
    "import time\n",
    "import threading\n",
    "\n",
    "def calc_square(numbers):\n",
    "    print(\"calculate square numbers\")\n",
    "    for n in numbers:\n",
    "        time.sleep(0.)\n",
    "        print('square:{}'.format(n*n))\n",
    "\n",
    "def calc_cube(numbers):\n",
    "    print(\"calculate cube of numbers\")\n",
    "    for n in numbers:\n",
    "        time.sleep(0.)\n",
    "        print('cube:{}'.format(n*n*n))\n",
    "\n",
    "arr = [2,3,8,9,12,23,34,45]\n",
    "\n",
    "t = time.time()\n",
    "\n",
    "t1= threading.Thread(target=calc_square, args=(arr,))\n",
    "t2= threading.Thread(target=calc_cube, args=(arr,))\n",
    "\n",
    "t1.start()\n",
    "t2.start()\n",
    "\n",
    "t1.join()\n",
    "t2.join()\n",
    "\n",
    "print(\"done in : \",time.time()-t)\n",
    "print(\"Hah... I am done with all my work now!\")"
   ]
  },
  {
   "cell_type": "code",
   "execution_count": null,
   "metadata": {},
   "outputs": [],
   "source": [
    "import time\n",
    "import multiprocessing\n",
    "\n",
    "def calc_square(numbers):\n",
    "    for n in numbers:\n",
    "        print('square ' + str(n*n))\n",
    "\n",
    "def calc_hard(numbers):\n",
    "    for n in numbers:\n",
    "        print('cube ' + str(n*n*n*n*n*n))\n",
    "\n",
    "if __name__ == \"__main__\":\n",
    "    arr = [2,3,8,10,14,24,34]\n",
    "    p1 = multiprocessing.Process(target=calc_square, args=(arr,))\n",
    "    p2 = multiprocessing.Process(target=calc_hard, args=(arr,))\n",
    "\n",
    "    p1.start()\n",
    "    p2.start()\n",
    "\n",
    "    p1.join()\n",
    "    p2.join()\n",
    "\n",
    "    print(\"Done!\")"
   ]
  },
  {
   "cell_type": "code",
   "execution_count": null,
   "metadata": {},
   "outputs": [],
   "source": [
    "from threading import Thread, Event\n",
    "from time import sleep\n",
    "\n",
    "class MyThread(Thread):\n",
    "    def __init__(self, event):\n",
    "        Thread.__init__(self)\n",
    "        self.stopped = event\n",
    "\n",
    "    def run(self):\n",
    "        while not self.stopped.wait(0.5):\n",
    "            print(\"my thread\")\n",
    "            # call a function\n",
    "\n",
    "stopFlag = Event()\n",
    "thread = MyThread(stopFlag)\n",
    "thread.start()\n",
    "# this will stop the timer\n",
    "\n",
    "stopFlag.set()"
   ]
  },
  {
   "cell_type": "code",
   "execution_count": null,
   "metadata": {},
   "outputs": [],
   "source": [
    "from time import sleep\n",
    "sleep(1)\n",
    "print(1)"
   ]
  },
  {
   "cell_type": "code",
   "execution_count": null,
   "metadata": {},
   "outputs": [],
   "source": [
    "from threading import Thread, Event\n",
    "from time import sleep\n",
    "\n",
    "\n",
    "class MyThread(Thread):\n",
    "    def __init__(self, interval, thread_id):\n",
    "        Thread.__init__(self)\n",
    "        self._stop_event = Event()\n",
    "        self.interval = interval\n",
    "        self.thread_id = thread_id\n",
    "\n",
    "    def run(self):\n",
    "        while True:\n",
    "            sleep(self.interval)\n",
    "            print(\"my thread {}\".format(self.thread_id))\n",
    "            \n",
    "    def stop(self):\n",
    "        self._stop_event.set()\n",
    "\n",
    "    def stopped(self):\n",
    "        return self._stop_event.is_set()\n",
    "            \n",
    "            \n",
    "thread1 = MyThread(1, 1)\n",
    "thread2 = MyThread(2, 2)\n",
    "thread3 = MyThread(3, 3)\n",
    "\n",
    "\n",
    "thread1.start()\n",
    "thread2.start()\n",
    "thread3.start()\n",
    "\n",
    "thread1.join()\n",
    "thread2.join()\n",
    "thread3.join()"
   ]
  },
  {
   "cell_type": "code",
   "execution_count": 7,
   "metadata": {},
   "outputs": [
    {
     "name": "stdout",
     "output_type": "stream",
     "text": [
      "main line\n",
      "module name:  __main__\n",
      "parent process: 22573\n",
      "process id: 6763\n",
      "function f\n",
      "module name:  __main__\n",
      "parent process: 6763\n",
      "process id: 7357\n",
      "hello bob\n"
     ]
    }
   ],
   "source": [
    "from multiprocessing import Process\n",
    "import os\n",
    "\n",
    "def info(title):\n",
    "    print(title)\n",
    "    print('module name: ',__name__)\n",
    "    if hasattr(os, 'getppid'):  # only available on Unix\n",
    "        print('parent process:', os.getppid())\n",
    "    print('process id:', os.getpid())\n",
    "\n",
    "def f(name):\n",
    "    info('function f')\n",
    "    print('hello', name)\n",
    "\n",
    "if __name__ == '__main__':\n",
    "    info('main line')\n",
    "    p = Process(target=f, args=('bob',))\n",
    "    p.start()\n",
    "    p.join()"
   ]
  },
  {
   "cell_type": "code",
   "execution_count": 9,
   "metadata": {},
   "outputs": [
    {
     "name": "stdout",
     "output_type": "stream",
     "text": [
      "[0, 1, 4, 9, 16, 25, 36, 49, 64, 81]\n",
      "0\n",
      "1\n",
      "4\n",
      "9\n",
      "16\n",
      "25\n",
      "36\n",
      "49\n",
      "64\n",
      "81\n",
      "400\n",
      "8431\n",
      "[8433, 8432, 8434, 8431]\n",
      "We lacked patience and got a multiprocessing.TimeoutError\n",
      "For the moment, the pool remains available for more work\n",
      "Now the pool is closed and no longer available\n"
     ]
    }
   ],
   "source": [
    "from multiprocessing import Pool, TimeoutError\n",
    "import time\n",
    "import os\n",
    "\n",
    "def f(x):\n",
    "    return x*x\n",
    "\n",
    "if __name__ == '__main__':\n",
    "    # start 4 worker processes\n",
    "    with Pool(processes=4) as pool:\n",
    "\n",
    "        # print \"[0, 1, 4,..., 81]\"\n",
    "        print(pool.map(f, range(10)))\n",
    "\n",
    "        # print same numbers in arbitrary order\n",
    "        for i in pool.imap_unordered(f, range(10)):\n",
    "            print(i)\n",
    "\n",
    "        # evaluate \"f(20)\" asynchronously\n",
    "        res = pool.apply_async(f, (20,))      # runs in *only* one process\n",
    "        print(res.get(timeout=1))             # prints \"400\"\n",
    "\n",
    "        # evaluate \"os.getpid()\" asynchronously\n",
    "        res = pool.apply_async(os.getpid, ()) # runs in *only* one process\n",
    "        print(res.get(timeout=1))             # prints the PID of that process\n",
    "\n",
    "        # launching multiple evaluations asynchronously *may* use more processes\n",
    "        multiple_results = [pool.apply_async(os.getpid, ()) for i in range(4)]\n",
    "        print([res.get(timeout=1) for res in multiple_results])\n",
    "\n",
    "        # make a single worker sleep for 10 secs\n",
    "        res = pool.apply_async(time.sleep, (10,))\n",
    "        try:\n",
    "            print(res.get(timeout=1))\n",
    "        except TimeoutError:\n",
    "            print(\"We lacked patience and got a multiprocessing.TimeoutError\")\n",
    "\n",
    "        print(\"For the moment, the pool remains available for more work\")\n",
    "\n",
    "    # exiting the 'with'-block has stopped the pool\n",
    "    print(\"Now the pool is closed and no longer available\")"
   ]
  },
  {
   "cell_type": "code",
   "execution_count": 4,
   "metadata": {},
   "outputs": [
    {
     "name": "stdout",
     "output_type": "stream",
     "text": [
      "pid: 11237 | sleep time: 2 | time elapsed: 0.0004024505615234375\n",
      "pid: 11236 | sleep time: 1 | time elapsed: 0.0003819465637207031\n",
      "pid: 11236 | sleep time: 1 | time elapsed: 1.0035035610198975\n",
      "pid: 11236 | sleep time: 1 | time elapsed: 2.004843235015869\n",
      "pid: 11237 | sleep time: 2 | time elapsed: 2.008927583694458\n",
      "pid: 11236 | sleep time: 1 | time elapsed: 3.006819486618042\n",
      "pid: 11236 | sleep time: 1 | time elapsed: 4.008209228515625\n",
      "pid: 11237 | sleep time: 2 | time elapsed: 4.011738300323486\n",
      "pid: 11236 | sleep time: 1 | time elapsed: 5.0096275806427\n",
      "pid: 11236 | sleep time: 1 | time elapsed: 6.011520147323608\n",
      "pid: 11237 | sleep time: 2 | time elapsed: 6.013641595840454\n",
      "pid: 11236 | sleep time: 1 | time elapsed: 7.013319253921509\n",
      "pid: 11236 | sleep time: 1 | time elapsed: 8.01515007019043\n",
      "pid: 11237 | sleep time: 2 | time elapsed: 8.016420364379883\n",
      "pid: 11236 | sleep time: 1 | time elapsed: 9.01710557937622\n",
      "pid: 11237 | sleep time: 2 | time elapsed: 10.018184661865234\n",
      "pid: 11236 | sleep time: 3 | time elapsed: 10.019149541854858\n",
      "pid: 11237 | sleep time: 2 | time elapsed: 12.021118402481079\n",
      "pid: 11236 | sleep time: 3 | time elapsed: 13.020823955535889\n",
      "pid: 11237 | sleep time: 2 | time elapsed: 14.024417638778687\n",
      "pid: 11236 | sleep time: 3 | time elapsed: 16.024697303771973\n",
      "pid: 11237 | sleep time: 2 | time elapsed: 16.025633096694946\n",
      "pid: 11237 | sleep time: 2 | time elapsed: 18.02654242515564\n",
      "pid: 11236 | sleep time: 3 | time elapsed: 19.028514623641968\n",
      "pid: 11237 | sleep time: 4 | time elapsed: 20.02962827682495\n",
      "pid: 11236 | sleep time: 3 | time elapsed: 22.032474994659424\n",
      "pid: 11237 | sleep time: 4 | time elapsed: 24.034695386886597\n",
      "pid: 11236 | sleep time: 3 | time elapsed: 25.03649616241455\n",
      "pid: 11237 | sleep time: 4 | time elapsed: 28.0376296043396\n",
      "pid: 11236 | sleep time: 3 | time elapsed: 28.04032564163208\n",
      "pid: 11236 | sleep time: 3 | time elapsed: 31.04301953315735\n",
      "pid: 11237 | sleep time: 4 | time elapsed: 32.04264545440674\n",
      "pid: 11236 | sleep time: 3 | time elapsed: 34.046175479888916\n",
      "pid: 11237 | sleep time: 4 | time elapsed: 36.04669499397278\n",
      "pid: 11236 | sleep time: 3 | time elapsed: 37.049172163009644\n",
      "pid: 11237 | sleep time: 4 | time elapsed: 40.05144143104553\n",
      "pid: 11237 | sleep time: 4 | time elapsed: 44.056572675704956\n",
      "pid: 11237 | sleep time: 4 | time elapsed: 48.061403036117554\n",
      "pid: 11237 | sleep time: 4 | time elapsed: 52.06669998168945\n",
      "pid: 11237 | sleep time: 4 | time elapsed: 56.071637868881226\n",
      "Done!\n",
      "CPU times: user 40 ms, sys: 28 ms, total: 68 ms\n",
      "Wall time: 1min\n"
     ]
    }
   ],
   "source": [
    "%%time\n",
    "\n",
    "from multiprocessing import Pool, TimeoutError\n",
    "import time\n",
    "import os \n",
    "\n",
    "\n",
    "def task(sleep_time, start_time):\n",
    "    for i in range(10):\n",
    "        print('pid: {} | sleep time: {} | time elapsed: {}'.format(os.getpid(), sleep_time, time.time()-start_time))\n",
    "        time.sleep(sleep_time)\n",
    "\n",
    "if __name__ == \"__main__\":\n",
    "    \n",
    "    results = []\n",
    "    with Pool(processes=2) as pool:\n",
    "        start_time = time.time()\n",
    "        results = [pool.apply_async(task, args=(i,start_time)) for i in range(1,5)]\n",
    "        \n",
    "        for result in results:\n",
    "            result.get()\n",
    "    print(\"Done!\")"
   ]
  },
  {
   "cell_type": "code",
   "execution_count": 3,
   "metadata": {},
   "outputs": [
    {
     "data": {
      "text/plain": [
       "8"
      ]
     },
     "execution_count": 3,
     "metadata": {},
     "output_type": "execute_result"
    }
   ],
   "source": [
    "%%time\n",
    "\n",
    "from multiprocessing import Pool, TimeoutError\n",
    "import time\n",
    "import os \n",
    "\n",
    "\n",
    "def task(sleep_time, start_time):\n",
    "    for i in range(10):\n",
    "        print('pid: {} | sleep time: {} | time elapsed: {}'.format(os.getpid(), sleep_time, time.time()-start_time))\n",
    "        time.sleep(sleep_time)\n",
    "\n",
    "if __name__ == \"__main__\":\n",
    "    \n",
    "    results = []\n",
    "    with Pool(processes=2) as pool:\n",
    "        start_time = time.time()\n",
    "        results = [pool.apply_async(task, args=(i,start_time)) for i in range(1,5)]\n",
    "        \n",
    "        for result in results:\n",
    "            result.get(timeout=1)\n",
    "    print(\"Done!\")"
   ]
  },
  {
   "cell_type": "code",
   "execution_count": null,
   "metadata": {},
   "outputs": [],
   "source": [
    ""
   ]
  },
  {
   "cell_type": "code",
   "execution_count": 1,
   "metadata": {},
   "outputs": [
    {
     "name": "stdout",
     "output_type": "stream",
     "text": [
      "task id: 1 | elapased time: 0.00019240379333496094\n",
      "task id: 2 | elapased time: 0.0002803802490234375\n",
      "task id: 3 | elapased time: 0.0003216266632080078\n",
      "task id: 1 | elapased time: 1.0003974437713623\n",
      "task id: 2 | elapased time: 2.0005571842193604\n",
      "task id: 1 | elapased time: 2.000673770904541\n",
      "task id: 3 | elapased time: 3.0007517337799072\n",
      "task id: 1 | elapased time: 3.000875949859619\n",
      "task id: 2 | elapased time: 4.00097393989563\n",
      "task id: 1 | elapased time: 4.001111268997192\n",
      "task id: 1 | elapased time: 5.001620054244995\n",
      "task id: 3 | elapased time: 6.00182580947876\n",
      "task id: 2 | elapased time: 6.00198769569397\n",
      "task id: 1 | elapased time: 6.002157211303711\n",
      "task id: 1 | elapased time: 7.0026562213897705\n",
      "task id: 2 | elapased time: 8.003229856491089\n",
      "task id: 1 | elapased time: 8.003397226333618\n",
      "task id: 3 | elapased time: 9.00221300125122\n",
      "task id: 1 | elapased time: 9.003876209259033\n",
      "task id: 2 | elapased time: 10.004219770431519\n",
      "task id: 3 | elapased time: 12.003002166748047\n",
      "task id: 2 | elapased time: 12.00529408454895\n",
      "task id: 2 | elapased time: 14.006477117538452\n",
      "task id: 3 | elapased time: 15.003634214401245\n",
      "task id: 2 | elapased time: 16.007253408432007\n",
      "task id: 3 | elapased time: 18.005434274673462\n",
      "task id: 2 | elapased time: 18.007713079452515\n",
      "task id: 3 | elapased time: 21.006107330322266\n",
      "task id: 3 | elapased time: 24.006736755371094\n",
      "task id: 3 | elapased time: 27.009000301361084\n"
     ]
    },
    {
     "data": {
      "text/plain": [
       "[<Greenlet at 0x7f0d68096470>,\n",
       " <Greenlet at 0x7f0d680965a0>,\n",
       " <Greenlet at 0x7f0d68096638>]"
      ]
     },
     "execution_count": 1,
     "metadata": {},
     "output_type": "execute_result"
    }
   ],
   "source": [
    "import time\n",
    "import gevent\n",
    "import random\n",
    "\n",
    "def task(sleep_time, start_time):\n",
    "    for i in range(10):\n",
    "        print('task id: {} | elapased time: {}'.format(sleep_time, time.time()-start_time))\n",
    "        gevent.sleep(sleep_time)\n",
    "    \n",
    "\n",
    "start_time = time.time()\n",
    "threads = [gevent.spawn(task, i, start_time) for i in range(1,4)]\n",
    "gevent.joinall(threads)"
   ]
  }
 ],
 "metadata": {
  "kernelspec": {
   "display_name": "Python 3",
   "language": "python",
   "name": "python3"
  },
  "language_info": {
   "codemirror_mode": {
    "name": "ipython",
    "version": 3
   },
   "file_extension": ".py",
   "mimetype": "text/x-python",
   "name": "python",
   "nbconvert_exporter": "python",
   "pygments_lexer": "ipython3",
   "version": "3.6.3"
  }
 },
 "nbformat": 4,
 "nbformat_minor": 0
}
