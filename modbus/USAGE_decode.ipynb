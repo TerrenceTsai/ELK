{
 "cells": [
  {
   "cell_type": "code",
   "execution_count": 67,
   "metadata": {},
   "outputs": [
    {
     "name": "stdout",
     "output_type": "stream",
     "text": [
      "{'PIW0': {'Data Type': 'Word',\n",
      "        'Logical Address': '%QW500',\n",
      "        'Name': 'PIW0',\n",
      "        'mapping': 'DIW0',\n",
      "        'scale': ''},\n",
      "'PIW2': {'Data Type': 'Word',\n",
      "        'Logical Address': '%QW502',\n",
      "        'Name': 'PIW2',\n",
      "        'mapping': 'DIW2',\n",
      "        'scale': ''}}\n"
     ]
    }
   ],
   "source": [
    "import csv\n",
    "import math\n",
    "import struct\n",
    "import json\n",
    "import pprint\n",
    "from datetime import datetime, date\n",
    "from time import sleep\n",
    "from collections import OrderedDict\n",
    "def csv_to_dict(tag_csv):\n",
    "    \"\"\" create a parsing dictionary \"\"\"\n",
    "    #have order dictionary, original dic is hash that not  order\n",
    "    tags = OrderedDict()\n",
    "    with open(tag_csv, 'r') as f:\n",
    "        reader = csv.reader(f, doublequote=True, quoting=csv.QUOTE_ALL, escapechar='\\\\')\n",
    "        header = next(reader)\n",
    "        header[0] = 'Name' # manually adjust from \\ufeffName to Name\n",
    "        tags = {row[0]:{header[i]:row[i] for i in range(0,len(header))} for row in reader}\n",
    "#    for row in reader:\n",
    "#            for i in range(0,len(header)):\n",
    "#                tags= {row[0]:{header[i]:row[i]}\n",
    "#    \"\"\"\"\"\"\n",
    "#        for i in range(0,len(header)):\n",
    "#            for row in reader:\n",
    " #               tags= {row[0]:{header[i]:row[i]}\n",
    "#    \"\"\"\"\"\"\n",
    "    return tags\n",
    "\n",
    "tags = csv_to_dict('plc_tags_1.csv')\n",
    "pp=pprint.PrettyPrinter(indent=0)\n",
    "pp.pprint(tags)\n"
   ]
  },
  {
   "cell_type": "code",
   "execution_count": 25,
   "metadata": {},
   "outputs": [
    {
     "name": "stdout",
     "output_type": "stream",
     "text": [
      "set([0, 1, 2])\n"
     ]
    }
   ],
   "source": [
    "tags={i*x for i in range(0,3) for x in range(0,2)}\n",
    "print(tags)"
   ]
  },
  {
   "cell_type": "code",
   "execution_count": 45,
   "metadata": {},
   "outputs": [
    {
     "name": "stdout",
     "output_type": "stream",
     "text": [
      "(0, 0)\n",
      "(0, 1)\n",
      "(0, 2)\n",
      "(1, 0)\n",
      "(1, 1)\n",
      "(1, 2)\n"
     ]
    }
   ],
   "source": [
    "rows=range(0,2)\n",
    "clons=range(0,3)\n",
    "cells=[(x,y) for x in rows for y in clons]\n",
    "for cell in cells:\n",
    "    print(cell)\n"
   ]
  },
  {
   "cell_type": "code",
   "execution_count": 63,
   "metadata": {},
   "outputs": [
    {
     "ename": "TypeError",
     "evalue": "append() takes exactly one argument (2 given)",
     "output_type": "error",
     "traceback": [
      "\u001b[0;31m---------------------------------------------------------------------------\u001b[0m",
      "\u001b[0;31mTypeError\u001b[0m                                 Traceback (most recent call last)",
      "\u001b[0;32m<ipython-input-63-26b9cdbd100c>\u001b[0m in \u001b[0;36m<module>\u001b[0;34m()\u001b[0m\n\u001b[1;32m      6\u001b[0m \u001b[0;32mfor\u001b[0m \u001b[0mx\u001b[0m \u001b[0;32min\u001b[0m \u001b[0mrows\u001b[0m\u001b[0;34m:\u001b[0m\u001b[0;34m\u001b[0m\u001b[0m\n\u001b[1;32m      7\u001b[0m     \u001b[0;32mfor\u001b[0m \u001b[0my\u001b[0m \u001b[0;32min\u001b[0m \u001b[0mclons\u001b[0m\u001b[0;34m:\u001b[0m\u001b[0;34m\u001b[0m\u001b[0m\n\u001b[0;32m----> 8\u001b[0;31m         \u001b[0ma\u001b[0m\u001b[0;34m.\u001b[0m\u001b[0mappend\u001b[0m\u001b[0;34m(\u001b[0m\u001b[0mx\u001b[0m\u001b[0;34m,\u001b[0m\u001b[0my\u001b[0m\u001b[0;34m)\u001b[0m\u001b[0;34m\u001b[0m\u001b[0m\n\u001b[0m\u001b[1;32m      9\u001b[0m \u001b[0;34m\u001b[0m\u001b[0m\n\u001b[1;32m     10\u001b[0m \u001b[0;32mprint\u001b[0m\u001b[0;34m(\u001b[0m\u001b[0ma\u001b[0m\u001b[0;34m)\u001b[0m\u001b[0;34m\u001b[0m\u001b[0m\n",
      "\u001b[0;31mTypeError\u001b[0m: append() takes exactly one argument (2 given)"
     ]
    }
   ],
   "source": [
    "rows=range(0,2)\n",
    "clons=range(0,3)\n",
    "a=[]\n",
    "b=[]\n",
    "c=[]\n",
    "for x in rows:\n",
    "    for y in clons:\n",
    "        a.append(x,y)\n",
    "      \n",
    "print(a)"
   ]
  },
  {
   "cell_type": "code",
   "execution_count": 78,
   "metadata": {},
   "outputs": [
    {
     "name": "stdout",
     "output_type": "stream",
     "text": [
      "2396736\n"
     ]
    }
   ],
   "source": [
    "def twos_comp(val, bits):\n",
    "    \"\"\"compute the 2's complement of int value val\"\"\"\n",
    "    if (val & (1 << (bits - 1))) != 0:\n",
    "        val = val - (1 << bits)\n",
    "    return val\n",
    "a=twos_comp(011111100,8)\n",
    "print(a)"
   ]
  },
  {
   "cell_type": "code",
   "execution_count": 84,
   "metadata": {},
   "outputs": [
    {
     "data": {
      "text/plain": [
       "'00000010'"
      ]
     },
     "execution_count": 84,
     "metadata": {},
     "output_type": "execute_result"
    }
   ],
   "source": [
    "'{:08b}'.format(2)"
   ]
  },
  {
   "cell_type": "code",
   "execution_count": 106,
   "metadata": {},
   "outputs": [
    {
     "name": "stdout",
     "output_type": "stream",
     "text": [
      "(1100, 101, 786437, 786437, '\\x05\\x00\\x0c\\x00', (1.1020329603882162e-39,))\n"
     ]
    },
    {
     "data": {
      "text/plain": [
       "1.1020329603882162e-39"
      ]
     },
     "execution_count": 106,
     "metadata": {},
     "output_type": "execute_result"
    }
   ],
   "source": [
    "import struct\n",
    "a = int('{:016b}'.format(12))\n",
    "b = int('{:016b}'.format(5))\n",
    "f = int('{:016b}{:016b}'.format(12, 5), 2)\n",
    "e= int('11000000000000000101',2)\n",
    "g= struct.pack('I',f)\n",
    "h=struct.unpack('f',g)\n",
    "print(a,b,f,e,g,h)\n",
    "struct.unpack('f', struct.pack('I', f))[0]"
   ]
  },
  {
   "cell_type": "code",
   "execution_count": 127,
   "metadata": {},
   "outputs": [
    {
     "name": "stdout",
     "output_type": "stream",
     "text": [
      "12.3400001526\n"
     ]
    },
    {
     "data": {
      "text/plain": [
       "tuple"
      ]
     },
     "execution_count": 127,
     "metadata": {},
     "output_type": "execute_result"
    }
   ],
   "source": [
    "import struct\n",
    "a=12.34\n",
    "bytes=struct.pack('f',a)\n",
    "#a, cover to float\n",
    "a,=struct.unpack('f',bytes)\n",
    "#b cover to tuple\n",
    "b=struct.unpack('f',bytes)\n",
    "print(a)\n",
    "type(a)\n",
    "type(b)"
   ]
  },
  {
   "cell_type": "code",
   "execution_count": null,
   "metadata": {},
   "outputs": [],
   "source": []
  }
 ],
 "metadata": {
  "kernelspec": {
   "display_name": "Python 3",
   "language": "python",
   "name": "python3"
  },
  "language_info": {
   "codemirror_mode": {
    "name": "ipython",
    "version": 2
   },
   "file_extension": ".py",
   "mimetype": "text/x-python",
   "name": "python",
   "nbconvert_exporter": "python",
   "pygments_lexer": "ipython2",
   "version": "2.7.12"
  }
 },
 "nbformat": 4,
 "nbformat_minor": 2
}
