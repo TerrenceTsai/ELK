{
 "cells": [
  {
   "cell_type": "markdown",
   "metadata": {},
   "source": [
    "modbus parse to json"
   ]
  },
  {
   "cell_type": "code",
   "execution_count": 6,
   "metadata": {},
   "outputs": [],
   "source": [
    "data_1 = [0, 3, 0, 0, 0, 0, 0, 0, 32768, 0, 0, 0, 0, 1, 34, 16, 41, 0, 5, 24, 0, 0, 0, 0, 0, 0, 0, 0, 0, 0, 0, 147, 161, 165, 176, 175, 174, 175, 31, 34, 36, 43, 43, 34, 0, 0, 16880, 0, 16231, 7282, 17008, 0, 15921, 50973, 17946, 3174, 17933, 59833, 0, 0, 0, 0, 0, 0, 0, 0, 0, 0, 0, 0, 0, 0, 0, 0, 0, 0, 16601, 39322, 16512, 0, 32704, 0, 32704, 0, 0, 0, 0, 0, 0, 0, 16055, 21846, 17740, 52019, 0, 0, 17065, 0, 15860, 29127, 17209, 32768, 17191, 41444]\n",
    "data_2 = [0, 3, 0, 0, 0, 0, 0, 0, 32768, 0, 0, 0, 0, 1, 34, 16, 41, 0, 30, 24, 0, 0, 0, 0, 0, 0, 0, 0, 0, 0, 0, 81, 80, 81, 82, 112, 152, 149, 31, 34, 36, 43, 43, 34, 0, 0, 0, 0, 16231, 7282, 0, 0, 15921, 50973, 17946, 3174, 17933, 59833, 0, 0, 0, 0, 0, 0, 0, 0, 0, 0, 0, 0, 0, 0, 0, 0, 0, 0, 0, 0, 0, 0, 32704, 0, 32704, 0, 32704, 0, 32704, 0, 0, 0, 16057, 12136, 17740, 52019, 0, 0, 0, 0, 15853, 2426, 17133, 39322, 17170, 58766]\n",
    "data_3 = [0, 3, 0, 0, 0, 0, 0, 0, 32768, 0, 0, 0, 0, 1, 34, 16, 41, 0, 35, 24, 0, 0, 0, 0, 0, 0, 0, 0, 0, 0, 0, 80, 81, 80, 80, 107, 146, 142, 31, 34, 37, 43, 42, 34, 0, 0, 0, 0, 16226, 19418, 0, 0, 15918, 4855, 17946, 3174, 17933, 59833, 0, 0, 0, 0, 0, 0, 0, 0, 0, 0, 0, 0, 0, 0, 0, 0, 0, 0, 0, 0, 0, 0, 32704, 0, 32704, 0, 32704, 0, 32704, 0, 0, 0, 16038, 43690, 17740, 52019, 0, 0, 0, 0, 15860, 29127, 17120, 52429, 17169, 16450]\n"
   ]
  },
  {
   "cell_type": "code",
   "execution_count": 14,
   "metadata": {},
   "outputs": [
    {
     "name": "stdout",
     "output_type": "stream",
     "text": [
      "Name: Job_Num       |Type: Int  |Offset: 0  |Value: 0\n",
      "Name: MC_st         |Type: Int  |Offset: 2  |Value: 3\n",
      "Name: EX1_status    |Type: Int  |Offset: 4  |Value: 0\n",
      "Name: EX2_status    |Type: Int  |Offset: 6  |Value: 0\n",
      "Name: LSP_in_present|Type: Int  |Offset: 8  |Value: 0\n",
      "Name: Spark_H_Acc   |Type: Int  |Offset: 10 |Value: 0\n",
      "Name: Spark_C_Acc   |Type: Int  |Offset: 12 |Value: 0\n",
      "Name: pb            |Type: Struc|Offset: 14 |Value: 0\n",
      "Name: start         |Type: Bool |Offset: 0  |Value: 0\n",
      "Name: stop          |Type: Bool |Offset: 0.1|Value: ERROR\n",
      "Name: inc_ex1       |Type: Bool |Offset: 0.2|Value: ERROR\n",
      "Name: dec_ex1       |Type: Bool |Offset: 0.3|Value: ERROR\n",
      "Name: inc_ex2       |Type: Bool |Offset: 0.4|Value: ERROR\n",
      "Name: dec_ex2       |Type: Bool |Offset: 0.5|Value: ERROR\n",
      "Name: inc_lsp       |Type: Bool |Offset: 0.6|Value: ERROR\n",
      "Name: dec_lsp       |Type: Bool |Offset: 0.7|Value: ERROR\n",
      "Name: st_ind        |Type: Struc|Offset: 16 |Value: 32768\n",
      "Name: EX1_ok        |Type: Bool |Offset: 0  |Value: 0\n",
      "Name: EX1_war       |Type: Bool |Offset: 0.1|Value: ERROR\n",
      "Name: EX1_err       |Type: Bool |Offset: 0.2|Value: ERROR\n",
      "Name: EX2_ok        |Type: Bool |Offset: 0.3|Value: ERROR\n",
      "Name: EX2_war       |Type: Bool |Offset: 0.4|Value: ERROR\n",
      "Name: EX2_err       |Type: Bool |Offset: 0.5|Value: ERROR\n",
      "Name: MC_ok         |Type: Bool |Offset: 0.6|Value: ERROR\n",
      "Name: MC_war        |Type: Bool |Offset: 0.7|Value: ERROR\n",
      "Name: MC_err        |Type: Bool |Offset: 1  |Value: 0\n",
      "Name: ex1_SPD_in_lam|Type: Struc|Offset: 18 |Value: 0\n",
      "Name: 10%           |Type: Bool |Offset: 0  |Value: 0\n",
      "Name: 20%           |Type: Bool |Offset: 0.1|Value: ERROR\n",
      "Name: 30%           |Type: Bool |Offset: 0.2|Value: ERROR\n",
      "Name: 40%           |Type: Bool |Offset: 0.3|Value: ERROR\n",
      "Name: 50%           |Type: Bool |Offset: 0.4|Value: ERROR\n",
      "Name: 60%           |Type: Bool |Offset: 0.5|Value: ERROR\n",
      "Name: 70%           |Type: Bool |Offset: 0.6|Value: ERROR\n",
      "Name: 80%           |Type: Bool |Offset: 0.7|Value: ERROR\n",
      "Name: 90%           |Type: Bool |Offset: 1  |Value: 0\n",
      "Name: 100%          |Type: Bool |Offset: 1.1|Value: ERROR\n",
      "Name: ex2_SPD_in_lam|Type: Struc|Offset: 20 |Value: 0\n",
      "Name: 10%           |Type: Bool |Offset: 0  |Value: 0\n",
      "Name: 20%           |Type: Bool |Offset: 0.1|Value: ERROR\n",
      "Name: 30%           |Type: Bool |Offset: 0.2|Value: ERROR\n",
      "Name: 40%           |Type: Bool |Offset: 0.3|Value: ERROR\n",
      "Name: 50%           |Type: Bool |Offset: 0.4|Value: ERROR\n",
      "Name: 60%           |Type: Bool |Offset: 0.5|Value: ERROR\n",
      "Name: 70%           |Type: Bool |Offset: 0.6|Value: ERROR\n",
      "Name: 80%           |Type: Bool |Offset: 0.7|Value: ERROR\n",
      "Name: 90%           |Type: Bool |Offset: 1  |Value: 0\n",
      "Name: 100%          |Type: Bool |Offset: 1.1|Value: ERROR\n",
      "Name: Log           |Type: Array|Offset: 22 |Value: 0\n",
      "Name: Log[0]        |Type: Int  |Offset: 0  |Value: 0\n",
      "Name: Log[1]        |Type: Int  |Offset: 2  |Value: 3\n",
      "Name: Log[2]        |Type: Int  |Offset: 4  |Value: 0\n",
      "Name: Log[3]        |Type: Int  |Offset: 6  |Value: 0\n",
      "Name: Log[4]        |Type: Int  |Offset: 8  |Value: 0\n",
      "Name: Log[5]        |Type: Int  |Offset: 10 |Value: 0\n",
      "Name: Log[6]        |Type: Int  |Offset: 12 |Value: 0\n",
      "Name: Log[7]        |Type: Int  |Offset: 14 |Value: 0\n",
      "Name: Log[8]        |Type: Int  |Offset: 16 |Value: 32768\n",
      "Name: Log[9]        |Type: Int  |Offset: 18 |Value: 0\n",
      "Name: Old_Log       |Type: Array|Offset: 42 |Value: 0\n",
      "Name: Old_Log[0]    |Type: Int  |Offset: 0  |Value: 0\n",
      "Name: Old_Log[1]    |Type: Int  |Offset: 2  |Value: 3\n",
      "Name: Old_Log[2]    |Type: Int  |Offset: 4  |Value: 0\n",
      "Name: Old_Log[3]    |Type: Int  |Offset: 6  |Value: 0\n",
      "Name: Old_Log[4]    |Type: Int  |Offset: 8  |Value: 0\n",
      "Name: Old_Log[5]    |Type: Int  |Offset: 10 |Value: 0\n",
      "Name: Old_Log[6]    |Type: Int  |Offset: 12 |Value: 0\n",
      "Name: Old_Log[7]    |Type: Int  |Offset: 14 |Value: 0\n",
      "Name: Old_Log[8]    |Type: Int  |Offset: 16 |Value: 32768\n",
      "Name: Old_Log[9]    |Type: Int  |Offset: 18 |Value: 0\n",
      "Name: ex1_zone      |Type: Array|Offset: 62 |Value: 147\n",
      "Name: ex1_zone[0]   |Type: Int  |Offset: 0  |Value: 0\n",
      "Name: ex1_zone[1]   |Type: Int  |Offset: 2  |Value: 3\n",
      "Name: ex1_zone[2]   |Type: Int  |Offset: 4  |Value: 0\n",
      "Name: ex1_zone[3]   |Type: Int  |Offset: 6  |Value: 0\n",
      "Name: ex1_zone[4]   |Type: Int  |Offset: 8  |Value: 0\n",
      "Name: ex1_zone[5]   |Type: Int  |Offset: 10 |Value: 0\n",
      "Name: ex1_zone[6]   |Type: Int  |Offset: 12 |Value: 0\n",
      "Name: ex2_zone      |Type: Array|Offset: 76 |Value: 31\n",
      "Name: ex2_zone[0]   |Type: Int  |Offset: 0  |Value: 0\n",
      "Name: ex2_zone[1]   |Type: Int  |Offset: 2  |Value: 3\n",
      "Name: ex2_zone[2]   |Type: Int  |Offset: 4  |Value: 0\n",
      "Name: ex2_zone[3]   |Type: Int  |Offset: 6  |Value: 0\n",
      "Name: ex2_zone[4]   |Type: Int  |Offset: 8  |Value: 0\n",
      "Name: ex2_zone[5]   |Type: Int  |Offset: 10 |Value: 0\n",
      "Name: ex2_zone[6]   |Type: Int  |Offset: 12 |Value: 0\n",
      "Name: Line_spd_lamp |Type: Struc|Offset: 90 |Value: 0\n",
      "Name: 10%           |Type: Bool |Offset: 0  |Value: 0\n",
      "Name: 20%           |Type: Bool |Offset: 0.1|Value: ERROR\n",
      "Name: 30%           |Type: Bool |Offset: 0.2|Value: ERROR\n",
      "Name: 40%           |Type: Bool |Offset: 0.3|Value: ERROR\n",
      "Name: 50%           |Type: Bool |Offset: 0.4|Value: ERROR\n",
      "Name: 60%           |Type: Bool |Offset: 0.5|Value: ERROR\n",
      "Name: 70%           |Type: Bool |Offset: 0.6|Value: ERROR\n",
      "Name: 80%           |Type: Bool |Offset: 0.7|Value: ERROR\n",
      "Name: 90%           |Type: Bool |Offset: 1  |Value: 0\n",
      "Name: 100%          |Type: Bool |Offset: 1.1|Value: ERROR\n",
      "Name: Line_info     |Type: Struc|Offset: 92 |Value: 16880\n",
      "Name: Sync_ratio    |Type: Real |Offset: 0  |Value: 0\n",
      "Name: LSP           |Type: Real |Offset: 4  |Value: 0\n",
      "Name: LSP_ratio     |Type: Real |Offset: 8  |Value: 0\n",
      "Name: LSP_limit_per |Type: Real |Offset: 12 |Value: 0\n",
      "Name: TripA         |Type: Real |Offset: 16 |Value: 32768\n",
      "Name: ODO_Day       |Type: Real |Offset: 20 |Value: 0\n",
      "Name: Total_Hrs     |Type: Real |Offset: 24 |Value: 0\n",
      "Name: Len_left      |Type: Real |Offset: 28 |Value: 34\n",
      "Name: Time_left     |Type: Real |Offset: 32 |Value: 41\n",
      "Name: Dia1_X_disp   |Type: Real |Offset: 36 |Value: 5\n",
      "Name: Dia1_Y_disp   |Type: Real |Offset: 40 |Value: 0\n",
      "Name: Dia2_X_disp   |Type: Real |Offset: 44 |Value: 0\n",
      "Name: Dia2_Y_disp   |Type: Real |Offset: 48 |Value: 0\n",
      "Name: Dia1_X_Targ   |Type: Real |Offset: 52 |Value: 0\n",
      "Name: Dia1_Y_Targ   |Type: Real |Offset: 56 |Value: 0\n",
      "Name: Dia2_X_Targ   |Type: Real |Offset: 60 |Value: 0\n",
      "Name: Dia2_Y_Targ   |Type: Real |Offset: 64 |Value: 161\n",
      "Name: Dia1_X_diff   |Type: Real |Offset: 68 |Value: 176\n",
      "Name: Dia1_Y_diff   |Type: Real |Offset: 72 |Value: 174\n",
      "Name: Dia2_X_diff   |Type: Real |Offset: 76 |Value: 31\n",
      "Name: Dia2_Y_diff   |Type: Real |Offset: 80 |Value: 36\n",
      "Name: ex2_info      |Type: Struc|Offset: 176|Value: 0\n",
      "Name: ratio         |Type: Real |Offset: 0  |Value: 0\n",
      "Name: limit_per     |Type: Real |Offset: 4  |Value: 0\n",
      "Name: melt_tmp      |Type: Real |Offset: 8  |Value: 0\n",
      "Name: melt_perssure |Type: Real |Offset: 12 |Value: 0\n",
      "Name: ex1_info      |Type: Struc|Offset: 192|Value: 17065\n",
      "Name: ratio         |Type: Real |Offset: 0  |Value: 0\n",
      "Name: limit_per     |Type: Real |Offset: 4  |Value: 0\n",
      "Name: melt_tmp      |Type: Real |Offset: 8  |Value: 0\n",
      "Name: melt_perssure |Type: Real |Offset: 12 |Value: 0\n"
     ]
    }
   ],
   "source": [
    "import csv\n",
    "with open('15103EZM_DB201_1.csv', 'r') as f:\n",
    "    reader = csv.reader(f, doublequote=True, quoting=csv.QUOTE_ALL, escapechar='\\\\')\n",
    "    print_format = 'Name: {:14.14}|Type: {:5.5}|Offset: {:3.3}|Value: {}'\n",
    "    for row in reader:\n",
    "        try:\n",
    "            print(print_format.format(row[0], row[1], row[2], data_1[int(row[2])//2]))\n",
    "        except:\n",
    "            print(print_format.format(row[0], row[1], row[2], \"ERROR\"))\n",
    "\n",
    "\n"
   ]
  },
  {
   "cell_type": "code",
   "execution_count": 31,
   "metadata": {},
   "outputs": [
    {
     "data": {
      "text/plain": [
       "'1000000000000000'"
      ]
     },
     "execution_count": 31,
     "metadata": {},
     "output_type": "execute_result"
    }
   ],
   "source": [
    "'{:016b}'.format(32768)"
   ]
  },
  {
   "cell_type": "code",
   "execution_count": 43,
   "metadata": {},
   "outputs": [
    {
     "name": "stdout",
     "output_type": "stream",
     "text": [
      "0011111101100111 0001110001110010\n",
      "0.9027777910232544\n"
     ]
    }
   ],
   "source": [
    "import struct\n",
    "\n",
    "print('{:016b} {:016b}'.format(16231, 7282))\n",
    "f = int('00111111011001110001110001110010', 2)\n",
    "print(struct.unpack('f', struct.pack('I', f))[0])\n"
   ]
  },
  {
   "cell_type": "code",
   "execution_count": 57,
   "metadata": {},
   "outputs": [
    {
     "name": "stdout",
     "output_type": "stream",
     "text": [
      "0.9027777910232544\n",
      "0.173611119389534\n",
      "9859.099609375\n",
      "185.5\n",
      "167.63238525390625\n"
     ]
    }
   ],
   "source": [
    "import struct\n",
    "\n",
    "def decimals_to_float32(int1, int2):\n",
    "    f = int('{:016b}{:016b}'.format(int1, int2), 2)\n",
    "    return struct.unpack('f', struct.pack('I', f))[0]\n",
    "\n",
    "def unpack_real(data, offset):\n",
    "    return decimals_to_float32(data[offset//2], data[offset//2+1])\n",
    "\n",
    "print(unpack_real(data_1, 96))\n",
    "print(unpack_real(data_1, 104))\n",
    "print(unpack_real(data_1, 108))\n",
    "print(unpack_real(data_1, 200))\n",
    "print(unpack_real(data_1, 204))"
   ]
  },
  {
   "cell_type": "code",
   "execution_count": 63,
   "metadata": {},
   "outputs": [
    {
     "name": "stdout",
     "output_type": "stream",
     "text": [
      "92 30.0\n",
      "96 0.9027777910232544\n",
      "100 60.0\n",
      "104 0.173611119389534\n",
      "108 9859.099609375\n",
      "112 9082.4306640625\n",
      "116 0.0\n",
      "120 0.0\n",
      "124 0.0\n",
      "128 0.0\n",
      "132 0.0\n",
      "136 0.0\n",
      "140 0.0\n",
      "144 0.0\n",
      "148 0.0\n",
      "152 6.800000190734863\n",
      "156 4.0\n",
      "160 nan\n",
      "164 nan\n",
      "168 0.0\n",
      "172 0.0\n"
     ]
    }
   ],
   "source": [
    "for offset in list(range(92,176,4)):\n",
    "    print(offset, unpack_real(d ata_1, offset))"
   ]
  },
  {
   "cell_type": "code",
   "execution_count": 19,
   "metadata": {},
   "outputs": [
    {
     "data": {
      "text/plain": [
       "'0000000001111011'"
      ]
     },
     "execution_count": 19,
     "metadata": {},
     "output_type": "execute_result"
    }
   ],
   "source": [
    "\"{0:016b}\".format(123)"
   ]
  },
  {
   "cell_type": "code",
   "execution_count": 11,
   "metadata": {},
   "outputs": [
    {
     "name": "stdout",
     "output_type": "stream",
     "text": [
      "hello today is 11 / 13 \n"
     ]
    }
   ],
   "source": [
    "print('{} today is {} / {} '.format('hello', 11, 13))\n"
   ]
  },
  {
   "cell_type": "code",
   "execution_count": 20,
   "metadata": {},
   "outputs": [
    {
     "data": {
      "text/plain": [
       "'0b101011'"
      ]
     },
     "execution_count": 20,
     "metadata": {},
     "output_type": "execute_result"
    }
   ],
   "source": [
    "bin(43)"
   ]
  }
 ],
 "metadata": {
  "kernelspec": {
   "display_name": "Python 3",
   "language": "python",
   "name": "python3"
  },
  "language_info": {
   "codemirror_mode": {
    "name": "ipython",
    "version": 3
   },
   "file_extension": ".py",
   "mimetype": "text/x-python",
   "name": "python",
   "nbconvert_exporter": "python",
   "pygments_lexer": "ipython3",
   "version": "3.6.3"
  }
 },
 "nbformat": 4,
 "nbformat_minor": 2
}
