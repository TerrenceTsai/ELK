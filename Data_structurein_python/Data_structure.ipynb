{
 "cells": [
  {
   "cell_type": "markdown",
   "metadata": {},
   "source": [
    "# Queue"
   ]
  },
  {
   "cell_type": "code",
   "execution_count": 2,
   "metadata": {},
   "outputs": [],
   "source": [
    "Max_size=100\n",
    "queue=[0]*Max_size\n",
    "front=-1\n",
    "rear=-1\n",
    "def enqueue(item):\n",
    "    global rear\n",
    "    global Max_size\n",
    "    global queue\n",
    "    if rear==Max_size-1:\n",
    "        print('queue Full')\n",
    "    else:\n",
    "        rear+=1\n",
    "        queue[rear]=item\n",
    "        \n",
    "def dequeue(item):\n",
    "    global rear\n",
    "    global Max_size\n",
    "    global front\n",
    "    global queue\n",
    "    if front==rear:\n",
    "        print('queue empty')\n",
    "    else:\n",
    "        front+=1\n",
    "        item=queue[front]\n",
    "def Front_value(Queue):\n",
    "    global rear\n",
    "    global front\n",
    "    global queue\n",
    "    if front==rear:\n",
    "        ('this is empty')\n",
    "    else:\n",
    "        print(queue[front])\n"
   ]
  },
  {
   "cell_type": "code",
   "execution_count": 7,
   "metadata": {},
   "outputs": [
    {
     "name": "stdout",
     "output_type": "stream",
     "text": [
      "[a]sace data [d]catch the data [e]exit\n",
      "\n",
      "[a]sace data [d]catch the data [e]exita\n",
      "please input11\n",
      "[a]sace data [d]catch the data [e]exita\n",
      "please input222\n",
      "[a]sace data [d]catch the data [e]exitd\n",
      "catch val: [11]\n",
      "[a]sace data [d]catch the data [e]exite\n",
      "\n",
      "~~~~~~~~~~~~~~~~~~~~~~~~~~~~~~~~\n",
      "ouput all val\n",
      "[222]\n",
      "~~~~~~~~~~~~~~~~~~~\n",
      "\n"
     ]
    }
   ],
   "source": [
    "import sys\n",
    "Max=10\n",
    "queue=[0]*Max\n",
    "front=rear=-1\n",
    "choice=\"\"\n",
    "while rear<Max-1 and choice !='e':\n",
    "    choice = input('[a]sace data [d]catch the data [e]exit')\n",
    "    if choice=='a':\n",
    "        val=int(input('please input'))\n",
    "        rear+=1\n",
    "        queue[rear]=val\n",
    "    elif choice=='d':\n",
    "        if rear>front:\n",
    "            front+=1\n",
    "            print(\"catch val: [%d]\" %(queue[front]))\n",
    "            queue[front]=0\n",
    "        else:\n",
    "            print('queue empty')\n",
    "            sys.exit(0)\n",
    "    else:\n",
    "        print()\n",
    "        \n",
    "print('~~~~~~~~~~~~~~~~~~~~~~~~~~~~~~~~')\n",
    "print('ouput all val')\n",
    "\n",
    "if rear==Max-1:\n",
    "    print('queue full')\n",
    "elif front>=rear:\n",
    "    print('queue empty')\n",
    "else:\n",
    "    while rear>front:\n",
    "        front+=1\n",
    "        print('[%d]' %queue[front],end=\"\")\n",
    "    print()\n",
    "    print('~~~~~~~~~~~~~~~~~~~')\n",
    "print()"
   ]
  },
  {
   "cell_type": "markdown",
   "metadata": {},
   "source": [
    "# serial queue "
   ]
  },
  {
   "cell_type": "code",
   "execution_count": null,
   "metadata": {},
   "outputs": [],
   "source": [
    "class student:\n",
    "    def __init__(self):\n",
    "        self.name=''*20\n",
    "        self.score=0\n",
    "        self.next=None\n",
    "front=student()\n",
    "rear=student()\n",
    "front=None\n",
    "front=None\n",
    "\n",
    "def enqueue(name,score):\n",
    "    global front\n",
    "    global rear\n",
    "    new_data=student()\n",
    "    new_data.name=name\n",
    "    new_data.score=score\n",
    "    if rear==None:\n",
    "        front=new_data\n",
    "    else:\n",
    "        rear.next=new_data\n",
    "    \n"
   ]
  }
 ],
 "metadata": {
  "kernelspec": {
   "display_name": "Python 3",
   "language": "python",
   "name": "python3"
  },
  "language_info": {
   "codemirror_mode": {
    "name": "ipython",
    "version": 3
   },
   "file_extension": ".py",
   "mimetype": "text/x-python",
   "name": "python",
   "nbconvert_exporter": "python",
   "pygments_lexer": "ipython3",
   "version": "3.5.2"
  }
 },
 "nbformat": 4,
 "nbformat_minor": 2
}
