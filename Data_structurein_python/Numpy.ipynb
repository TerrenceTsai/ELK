{
 "cells": [
  {
   "cell_type": "markdown",
   "metadata": {},
   "source": [
    "# Lambda  "
   ]
  },
  {
   "cell_type": "code",
   "execution_count": 6,
   "metadata": {},
   "outputs": [
    {
     "name": "stdout",
     "output_type": "stream",
     "text": [
      "[1, 2, 3]\n",
      "<function <lambda> at 0x7ff74813e2f0>\n",
      "3\n"
     ]
    }
   ],
   "source": [
    "f=lambda x:x+1\n",
    "a= [1,2,3]\n",
    "print(a)\n",
    "print(f)\n",
    "print(f(2))"
   ]
  },
  {
   "cell_type": "code",
   "execution_count": 14,
   "metadata": {},
   "outputs": [
    {
     "name": "stdout",
     "output_type": "stream",
     "text": [
      "(<function map.<locals>.<lambda> at 0x7ff74813e6a8>, [0, 1, 2, 3, 4, 5, 6, 7, 8, 9])\n"
     ]
    }
   ],
   "source": [
    "def map():\n",
    "    return (lambda x:x*x, [y for y in range(10)])\n",
    "print(map())"
   ]
  },
  {
   "cell_type": "code",
   "execution_count": 30,
   "metadata": {},
   "outputs": [
    {
     "name": "stdout",
     "output_type": "stream",
     "text": [
      "[0.         0.04081633 0.08163265 0.12244898 0.16326531 0.20408163\n",
      " 0.24489796 0.28571429 0.32653061 0.36734694 0.40816327 0.44897959\n",
      " 0.48979592 0.53061224 0.57142857 0.6122449  0.65306122 0.69387755\n",
      " 0.73469388 0.7755102  0.81632653 0.85714286 0.89795918 0.93877551\n",
      " 0.97959184 1.02040816 1.06122449 1.10204082 1.14285714 1.18367347\n",
      " 1.2244898  1.26530612 1.30612245 1.34693878 1.3877551  1.42857143\n",
      " 1.46938776 1.51020408 1.55102041 1.59183673 1.63265306 1.67346939\n",
      " 1.71428571 1.75510204 1.79591837 1.83673469 1.87755102 1.91836735\n",
      " 1.95918367 2.        ]\n",
      "[1.         1.04081633 1.08163265 1.12244898 1.16326531 1.20408163\n",
      " 1.24489796 1.28571429 1.32653061 1.36734694 1.40816327 1.44897959\n",
      " 1.48979592 1.53061224 1.57142857 1.6122449  1.65306122 1.69387755\n",
      " 1.73469388 1.7755102  1.81632653 1.85714286 1.89795918 1.93877551\n",
      " 1.97959184 2.02040816 2.06122449 2.10204082 2.14285714 2.18367347\n",
      " 2.2244898  2.26530612 2.30612245 2.34693878 2.3877551  2.42857143\n",
      " 2.46938776 2.51020408 2.55102041 2.59183673 2.63265306 2.67346939\n",
      " 2.71428571 2.75510204 2.79591837 2.83673469 2.87755102 2.91836735\n",
      " 2.95918367 3.        ]\n"
     ]
    },
    {
     "data": {
      "image/png": "[encoded data removed]",
      "text/plain": [
       "<matplotlib.figure.Figure at 0x7ff71e46a4a8>"
      ]
     },
     "metadata": {},
     "output_type": "display_data"
    }
   ],
   "source": [
    "import numpy as np\n",
    "import matplotlib.pyplot as plt\n",
    "X=np.linspace(0,2)\n",
    "F = np.vectorize(f)\n",
    "Y = F(X)\n",
    "print(X)\n",
    "print(Y)\n",
    "\n",
    "plt.plot(X, Y, 'b')\n",
    "plt.show()"
   ]
  },
  {
   "cell_type": "code",
   "execution_count": 53,
   "metadata": {
    "scrolled": true
   },
   "outputs": [
    {
     "name": "stdout",
     "output_type": "stream",
     "text": [
      "0       100.0\n",
      "1       200.0\n",
      "2       300.0\n",
      "3       400.0\n",
      "4       500.0\n",
      "5       600.0\n",
      "6       700.0\n",
      "7       800.0\n",
      "8       900.0\n",
      "9      1000.0\n",
      "10      100.0\n",
      "11      200.0\n",
      "12      300.0\n",
      "13      400.0\n",
      "14      500.0\n",
      "15      600.0\n",
      "16      700.0\n",
      "17      800.0\n",
      "18      900.0\n",
      "19     1000.0\n",
      "20     1100.0\n",
      "21     1200.0\n",
      "22     1300.0\n",
      "23     1400.0\n",
      "24     1500.0\n",
      "25     1600.0\n",
      "26     1700.0\n",
      "27     1800.0\n",
      "28     1900.0\n",
      "29     2000.0\n",
      "        ...  \n",
      "247    2100.0\n",
      "248    2200.0\n",
      "249    2300.0\n",
      "250    2400.0\n",
      "251    2500.0\n",
      "252    2600.0\n",
      "253    2700.0\n",
      "254    2800.0\n",
      "255    2900.0\n",
      "256    3000.0\n",
      "257     100.0\n",
      "258     200.0\n",
      "259     300.0\n",
      "260     400.0\n",
      "261     500.0\n",
      "262     600.0\n",
      "263     700.0\n",
      "264     800.0\n",
      "265     900.0\n",
      "266    1000.0\n",
      "267    1100.0\n",
      "268    1200.0\n",
      "269    1300.0\n",
      "270    1400.0\n",
      "271    1500.0\n",
      "272    1600.0\n",
      "273    1700.0\n",
      "274    1800.0\n",
      "275    1900.0\n",
      "276    2000.0\n",
      "Name: 雙輪引取, Length: 277, dtype: float64\n",
      "0       100.0\n",
      "1       199.0\n",
      "2       299.0\n",
      "3       399.0\n",
      "4       499.0\n",
      "5       599.0\n",
      "6       699.0\n",
      "7       799.0\n",
      "8       899.0\n",
      "9       999.0\n",
      "10      100.0\n",
      "11      200.0\n",
      "12      300.0\n",
      "13      400.0\n",
      "14      500.0\n",
      "15      600.0\n",
      "16      700.0\n",
      "17      800.0\n",
      "18      900.0\n",
      "19     1000.0\n",
      "20     1100.0\n",
      "21     1200.0\n",
      "22     1300.0\n",
      "23     1400.0\n",
      "24     1500.0\n",
      "25     1600.0\n",
      "26     1700.0\n",
      "27     1800.0\n",
      "28     1900.0\n",
      "29     2000.0\n",
      "        ...  \n",
      "247    2094.1\n",
      "248    2193.8\n",
      "249    2293.4\n",
      "250    2393.0\n",
      "251    2492.6\n",
      "252    2592.3\n",
      "253    2691.9\n",
      "254    2791.5\n",
      "255    2891.1\n",
      "256    2990.4\n",
      "257      99.7\n",
      "258     199.5\n",
      "259     299.2\n",
      "260     399.0\n",
      "261     498.8\n",
      "262     598.5\n",
      "263     698.3\n",
      "264     798.0\n",
      "265     897.8\n",
      "266     997.5\n",
      "267    1097.3\n",
      "268    1197.1\n",
      "269    1296.9\n",
      "270    1396.6\n",
      "271    1496.4\n",
      "272    1596.2\n",
      "273    1696.0\n",
      "274    1795.7\n",
      "275    1895.5\n",
      "276    1995.3\n",
      "Name: 雷射計米, Length: 277, dtype: float64\n"
     ]
    },
    {
     "data": {
      "image/png": "[encoded data removed]",
      "text/plain": [
       "<matplotlib.figure.Figure at 0x7ff7196fd390>"
      ]
     },
     "metadata": {},
     "output_type": "display_data"
    }
   ],
   "source": [
    "import pandas as pd\n",
    "import matplotlib.pyplot as plt\n",
    "def get_headers(dataframe):\n",
    "    \"\"\"\n",
    "    Get the headers name of the dataframe\n",
    "    :param dataframe:\n",
    "    :return:\n",
    "    \"\"\"\n",
    "    return dataframe.columns.values\n",
    "\n",
    "#input_path = '/home/user/development/Github/DataAspirant_codes-master/Simple_linear_regression/Inputs/input_data.csv'\n",
    "\n",
    "input_path = '/home/user/development/hello_python/Linear_regeression/BS11_copy_2.csv'\n",
    "dataset = pd.read_csv(input_path,encoding = \"utf8\")\n",
    "   # Get the dataset header names\n",
    "dataset_headers = get_headers(dataset)\n",
    "#print (\"Dataset Headers :: \", dataset_headers)\n",
    "print(dataset[dataset_headers[3]])\n",
    "print(dataset[dataset_headers[4]])\n",
    "plt.plot(dataset[dataset_headers[3]], dataset[dataset_headers[4]], 'b')\n",
    "plt.show()\n"
   ]
  },
  {
   "cell_type": "markdown",
   "metadata": {},
   "source": [
    "# Test Lineat function"
   ]
  },
  {
   "cell_type": "code",
   "execution_count": 61,
   "metadata": {},
   "outputs": [
    {
     "name": "stdout",
     "output_type": "stream",
     "text": [
      "nan\n",
      "0\n",
      "0\n"
     ]
    },
    {
     "ename": "TypeError",
     "evalue": "list indices must be integers or slices, not Symbol",
     "output_type": "error",
     "traceback": [
      "\u001b[0;31m---------------------------------------------------------------------------\u001b[0m",
      "\u001b[0;31mTypeError\u001b[0m                                 Traceback (most recent call last)",
      "\u001b[0;32m<ipython-input-61-5321b3e8503d>\u001b[0m in \u001b[0;36m<module>\u001b[0;34m()\u001b[0m\n\u001b[1;32m     36\u001b[0m \u001b[0;31m#print(dataset[dataset_headers[4]])\u001b[0m\u001b[0;34m\u001b[0m\u001b[0;34m\u001b[0m\u001b[0m\n\u001b[1;32m     37\u001b[0m \u001b[0;31m#print(len(dataset[dataset_headers[4]]))\u001b[0m\u001b[0;34m\u001b[0m\u001b[0;34m\u001b[0m\u001b[0m\n\u001b[0;32m---> 38\u001b[0;31m \u001b[0ma\u001b[0m\u001b[0;34m,\u001b[0m \u001b[0mb\u001b[0m \u001b[0;34m=\u001b[0m \u001b[0mlinear_regression\u001b[0m\u001b[0;34m(\u001b[0m\u001b[0mdataset\u001b[0m\u001b[0;34m[\u001b[0m\u001b[0mdataset_headers\u001b[0m\u001b[0;34m[\u001b[0m\u001b[0;36m3\u001b[0m\u001b[0;34m]\u001b[0m\u001b[0;34m]\u001b[0m\u001b[0;34m,\u001b[0m \u001b[0mdataset\u001b[0m\u001b[0;34m[\u001b[0m\u001b[0mdataset_headers\u001b[0m\u001b[0;34m[\u001b[0m\u001b[0;36m4\u001b[0m\u001b[0;34m]\u001b[0m\u001b[0;34m]\u001b[0m\u001b[0;34m)\u001b[0m\u001b[0;34m\u001b[0m\u001b[0m\n\u001b[0m\u001b[1;32m     39\u001b[0m \u001b[0;31m#print(a,b)\u001b[0m\u001b[0;34m\u001b[0m\u001b[0;34m\u001b[0m\u001b[0m\n",
      "\u001b[0;32m<ipython-input-61-5321b3e8503d>\u001b[0m in \u001b[0;36mlinear_regression\u001b[0;34m(X, Y)\u001b[0m\n\u001b[1;32m     16\u001b[0m     \u001b[0mprint\u001b[0m\u001b[0;34m(\u001b[0m\u001b[0mf2\u001b[0m\u001b[0;34m)\u001b[0m\u001b[0;34m\u001b[0m\u001b[0m\n\u001b[1;32m     17\u001b[0m     \u001b[0mres\u001b[0m \u001b[0;34m=\u001b[0m \u001b[0msolve\u001b[0m\u001b[0;34m(\u001b[0m\u001b[0;34m[\u001b[0m\u001b[0mf1\u001b[0m\u001b[0;34m,\u001b[0m \u001b[0mf2\u001b[0m\u001b[0;34m]\u001b[0m\u001b[0;34m,\u001b[0m \u001b[0;34m[\u001b[0m\u001b[0ma\u001b[0m\u001b[0;34m,\u001b[0m \u001b[0mb\u001b[0m\u001b[0;34m]\u001b[0m\u001b[0;34m)\u001b[0m\u001b[0;34m\u001b[0m\u001b[0m\n\u001b[0;32m---> 18\u001b[0;31m     \u001b[0;32mreturn\u001b[0m \u001b[0mres\u001b[0m\u001b[0;34m[\u001b[0m\u001b[0ma\u001b[0m\u001b[0;34m]\u001b[0m\u001b[0;34m,\u001b[0m \u001b[0mres\u001b[0m\u001b[0;34m[\u001b[0m\u001b[0mb\u001b[0m\u001b[0;34m]\u001b[0m\u001b[0;34m\u001b[0m\u001b[0m\n\u001b[0m\u001b[1;32m     19\u001b[0m \u001b[0;34m\u001b[0m\u001b[0m\n\u001b[1;32m     20\u001b[0m \u001b[0;32mdef\u001b[0m \u001b[0mget_headers\u001b[0m\u001b[0;34m(\u001b[0m\u001b[0mdataframe\u001b[0m\u001b[0;34m)\u001b[0m\u001b[0;34m:\u001b[0m\u001b[0;34m\u001b[0m\u001b[0m\n",
      "\u001b[0;31mTypeError\u001b[0m: list indices must be integers or slices, not Symbol"
     ]
    }
   ],
   "source": [
    "import pandas as pd\n",
    "import matplotlib.pyplot as plt\n",
    "#using sympy\n",
    "from sympy import *\n",
    "\n",
    "def linear_regression(X, Y):\n",
    "    a, b = symbols('a b')\n",
    "    residual = 0\n",
    "    for i in range(len(X)):\n",
    "        residual += (Y[i] - (a * X[i] + b)) ** 2\n",
    "\n",
    "    print(expand(residual))\n",
    "    f1 = diff(residual, a)\n",
    "    f2 = diff(residual, b)\n",
    "    print(f1)\n",
    "    print(f2)\n",
    "    res = solve([f1, f2], [a, b])\n",
    "    return res[a], res[b]\n",
    "\n",
    "def get_headers(dataframe):\n",
    "    \"\"\"\n",
    "    Get the headers name of the dataframe\n",
    "    :param dataframe:\n",
    "    :return:\n",
    "    \"\"\"\n",
    "    return dataframe.columns.values\n",
    "\n",
    "#input_path = '/home/user/development/Github/DataAspirant_codes-master/Simple_linear_regression/Inputs/input_data.csv'\n",
    "\n",
    "input_path = '/home/user/development/hello_python/Linear_regeression/BS11_copy_2.csv'\n",
    "dataset = pd.read_csv(input_path,encoding = \"utf8\")\n",
    "   # Get the dataset header names\n",
    "dataset_headers = get_headers(dataset)\n",
    "#print (\"Dataset Headers :: \", dataset_headers)\n",
    "#print(dataset[dataset_headers[3]])\n",
    "#print(dataset[dataset_headers[4]])\n",
    "#print(len(dataset[dataset_headers[4]]))\n",
    "a, b = linear_regression(dataset[dataset_headers[3]], dataset[dataset_headers[4]])\n",
    "#print(a,b)\n"
   ]
  },
  {
   "cell_type": "markdown",
   "metadata": {},
   "source": [
    "# Pandas"
   ]
  },
  {
   "cell_type": "code",
   "execution_count": 22,
   "metadata": {},
   "outputs": [
    {
     "name": "stdout",
     "output_type": "stream",
     "text": [
      "index Index(['a', 'b', 'c', 'd', 'f'], dtype='object')\n",
      "index [1 2 3 4 5]\n",
      "S[2] 3\n",
      "S[2] 4\n",
      "S[slice]\n",
      "a    1\n",
      "b    2\n",
      "c    3\n",
      "dtype: int64\n",
      "S[slice]\n",
      "b    2\n",
      "d    4\n",
      "c    3\n",
      "dtype: int64\n",
      "S[slice]\n",
      "a    1\n",
      "b    2\n",
      "c    3\n",
      "d    4\n",
      "dtype: int64\n",
      "\n",
      "\n",
      "<zip object at 0x7fda9554c988>\n",
      "\n",
      "\n",
      "[('a', 1), ('b', 2), ('c', 3), ('d', 4), ('f', 5)]\n",
      "\n",
      "\n",
      "[[\"a\", 1], [\"b\", 2], [\"c\", 3], [\"d\", 4], [\"f\", 5]]\n"
     ]
    }
   ],
   "source": [
    "import pandas as pd\n",
    "import json\n",
    "s=pd.Series([1,2,3,4,5], index=['a','b','c','d','f'])\n",
    "print('index',s.index)\n",
    "print('index',s.values)\n",
    "print(\"S[2]\",s[2])\n",
    "print(\"S[2]\",s['d'])\n",
    "print(\"S[slice]\",s[0:3],sep='\\n')\n",
    "print(\"S[slice]\",s[[1,3,2]],sep='\\n')\n",
    "print(\"S[slice]\",s['a':'d'],sep='\\n')\n",
    "\n",
    "\n",
    "#dictnary\n",
    "pd_list=list(s.iteritems())\n",
    "\n",
    "print('\\n')\n",
    "print(s.iteritems())\n",
    "print('\\n')\n",
    "print(pd_list)\n",
    "\n",
    "print('\\n')\n",
    "print(json.dumps(pd_list))\n"
   ]
  },
  {
   "cell_type": "code",
   "execution_count": 53,
   "metadata": {},
   "outputs": [
    {
     "name": "stdout",
     "output_type": "stream",
     "text": [
      "Measures\n",
      "pH               float64\n",
      "Dens             float64\n",
      "Ca               float64\n",
      "Conduc           float64\n",
      "Date      datetime64[ns]\n",
      "Name              object\n",
      "dtype: object\n",
      "(6, 6)\n",
      "Index(['pH', 'Dens', 'Ca', 'Conduc', 'Date', 'Name'], dtype='object', name='Measures')\n",
      "\n",
      "\n",
      "Measures\n",
      "\n",
      "\n",
      "MultiIndex(levels=[['0-10', '10-30'], ['Depression', 'Slope', 'Top']],\n",
      "           labels=[[0, 0, 0, 1, 1, 1], [0, 1, 2, 0, 1, 2]],\n",
      "           names=['Depth', 'Contour'])\n",
      "\n",
      "\n",
      "['Depth', 'Contour']\n",
      "\n",
      "\n",
      "Depth  Contour   \n",
      "0-10   Depression    5.3525\n",
      "       Slope         5.5075\n",
      "       Top           5.3325\n",
      "10-30  Depression    4.8800\n",
      "       Slope         5.2825\n",
      "       Top           4.8500\n",
      "Name: pH, dtype: float64\n",
      "\n",
      "\n",
      "Measures              pH    Dens\n",
      "Depth Contour                   \n",
      "0-10  Depression  5.3525  0.9775\n",
      "      Slope       5.5075  1.0500\n",
      "      Top         5.3325  1.0025\n",
      "10-30 Depression  4.8800  1.3575\n",
      "      Slope       5.2825  1.3475\n",
      "      Top         4.8500  1.3325\n",
      "\n",
      "\n",
      "Measures              pH    Dens       Ca  Conduc       Date  Name\n",
      "Depth Contour                                                     \n",
      "0-10  Depression  5.3525  0.9775  10.6850  1.4725 2015-05-26  Lois\n",
      "      Slope       5.5075  1.0500  12.2475  2.0500 2015-04-30   Roy\n",
      "      Top         5.3325  1.0025  13.3850  1.3725 2015-05-21   Roy\n",
      "\n",
      "\n",
      "Measures        pH    Dens       Ca  Conduc       Date  Name\n",
      "Contour                                                     \n",
      "Depression  5.3525  0.9775  10.6850  1.4725 2015-05-26  Lois\n",
      "Slope       5.5075  1.0500  12.2475  2.0500 2015-04-30   Roy\n",
      "Top         5.3325  1.0025  13.3850  1.3725 2015-05-21   Roy\n"
     ]
    }
   ],
   "source": [
    "import pandas as pd\n",
    "import json\n",
    "df_soil=pd.read_csv(\"Soils-simple.csv\", index_col=[0,1],parse_dates=['Date'])\n",
    "df_soil.columns.name='Measures'\n",
    "print(df_soil.dtypes,end='\\n')\n",
    "print(df_soil.shape,end='\\n')\n",
    "print(df_soil.columns,end='\\n')\n",
    "print('\\n')\n",
    "print(df_soil.columns.name,end='\\n')\n",
    "print('\\n')\n",
    "print(df_soil.index)\n",
    "print('\\n')\n",
    "print(df_soil.index.names)\n",
    "print('\\n')\n",
    "print(df_soil['pH'])\n",
    "print('\\n')\n",
    "print(df_soil[['pH','Dens']])\n",
    "print('\\n')\n",
    "print(df_soil.loc[['0-10','Top']])\n",
    "print('\\n')\n",
    "print(df_soil.loc['0-10'])"
   ]
  },
  {
   "cell_type": "code",
   "execution_count": null,
   "metadata": {},
   "outputs": [],
   "source": []
  }
 ],
 "metadata": {
  "kernelspec": {
   "display_name": "Python 3",
   "language": "python",
   "name": "python3"
  },
  "language_info": {
   "codemirror_mode": {
    "name": "ipython",
    "version": 3
   },
   "file_extension": ".py",
   "mimetype": "text/x-python",
   "name": "python",
   "nbconvert_exporter": "python",
   "pygments_lexer": "ipython3",
   "version": "3.5.2"
  }
 },
 "nbformat": 4,
 "nbformat_minor": 2
}
