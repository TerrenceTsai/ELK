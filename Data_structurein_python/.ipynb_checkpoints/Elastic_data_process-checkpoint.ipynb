{
 "cells": [
  {
   "cell_type": "code",
   "execution_count": null,
   "metadata": {},
   "outputs": [],
   "source": [
    "from datetime import datetime\n",
    "import pprint\n",
    "\n",
    "parent_names = {\n",
    "    'energy': 'ns=3;s=\"Data_From_Energy_PLC_DB\".\"DS142\"',\n",
    "    'fishtank': 'ns=3;s=\"Data_From_Fish_PLC_DB\".Static',\n",
    "    'security': 'ns=3;s=\"Data_From_Security_DB\".Static',\n",
    "    'Static':''\n",
    "}\n",
    "\n",
    "data= {}\n",
    "for name in parent_names:\n",
    "    data[name] = {}\n",
    "for parent in parent_names:\n",
    "    data[parent][\"timestamp\"] = datetime.utcnow()\n",
    "    data[parent][\"mean\"] = 2\n",
    "pprint.pprint(data)"
   ]
  },
  {
   "cell_type": "code",
   "execution_count": null,
   "metadata": {},
   "outputs": [],
   "source": []
  }
 ],
 "metadata": {
  "kernelspec": {
   "display_name": "Python 3",
   "language": "python",
   "name": "python3"
  },
  "language_info": {
   "codemirror_mode": {
    "name": "ipython",
    "version": 3
   },
   "file_extension": ".py",
   "mimetype": "text/x-python",
   "name": "python",
   "nbconvert_exporter": "python",
   "pygments_lexer": "ipython3",
   "version": "3.5.2"
  }
 },
 "nbformat": 4,
 "nbformat_minor": 2
}
