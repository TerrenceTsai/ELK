{
 "cells": [
  {
   "cell_type": "code",
   "execution_count": 1,
   "metadata": {},
   "outputs": [
    {
     "ename": "SyntaxError",
     "evalue": "invalid syntax (<ipython-input-1-8a739d43ec2a>, line 1)",
     "output_type": "error",
     "traceback": [
      "\u001b[0;36m  File \u001b[0;32m\"<ipython-input-1-8a739d43ec2a>\"\u001b[0;36m, line \u001b[0;32m1\u001b[0m\n\u001b[0;31m    Forword pratice\u001b[0m\n\u001b[0m                  ^\u001b[0m\n\u001b[0;31mSyntaxError\u001b[0m\u001b[0;31m:\u001b[0m invalid syntax\n"
     ]
    }
   ],
   "source": [
    "Forword pratice"
   ]
  },
  {
   "cell_type": "markdown",
   "metadata": {},
   "source": [
    "# Class"
   ]
  },
  {
   "cell_type": "code",
   "execution_count": 5,
   "metadata": {},
   "outputs": [
    {
     "name": "stdout",
     "output_type": "stream",
     "text": [
      "Tara\n"
     ]
    }
   ],
   "source": [
    "class Person():\n",
    "    def __init__(self,name):\n",
    "        self.name=name\n",
    "someone= Person('Tara')\n",
    "print(someone.name)\n"
   ]
  },
  {
   "cell_type": "code",
   "execution_count": 23,
   "metadata": {},
   "outputs": [
    {
     "name": "stdout",
     "output_type": "stream",
     "text": [
      "i am a car\n",
      "i am a car\n"
     ]
    }
   ],
   "source": [
    "class Car():\n",
    "    def exclaim(self):\n",
    "        print(\"i am a car\")\n",
    "class Yogo(Car):\n",
    "        pass\n",
    "give_me_a_car=Car()\n",
    "give_me_a_yugo=Yogo()\n",
    "give_me_a_car.exclaim()\n",
    "give_me_a_yugo.exclaim()\n"
   ]
  },
  {
   "cell_type": "code",
   "execution_count": 24,
   "metadata": {},
   "outputs": [
    {
     "name": "stdout",
     "output_type": "stream",
     "text": [
      "i am a car\n",
      "i am duplicated\n"
     ]
    }
   ],
   "source": [
    "class Car():\n",
    "    def exclaim(self):\n",
    "        print(\"i am a car\")\n",
    "class Yogo(Car):\n",
    "    def exclaim(self):\n",
    "        print(\"i am duplicated\")\n",
    "give_me_a_car=Car()\n",
    "give_me_a_yugo=Yogo()\n",
    "give_me_a_car.exclaim()\n",
    "give_me_a_yugo.exclaim()"
   ]
  },
  {
   "cell_type": "code",
   "execution_count": 30,
   "metadata": {},
   "outputs": [
    {
     "name": "stdout",
     "output_type": "stream",
     "text": [
      "Andy\n",
      "DoctorTerrence\n"
     ]
    }
   ],
   "source": [
    "#Parent\n",
    "class Car():  \n",
    "    def __init__(self,name):\n",
    "        self.name=name\n",
    "class MDperson(Car):\n",
    "    def __init__(self,name):\n",
    "        self.name='Doctor'+ name\n",
    "person=Car('Andy')\n",
    "doctor=MDperson('Terrence')\n",
    "print(person.name)\n",
    "print(doctor.name)"
   ]
  },
  {
   "cell_type": "markdown",
   "metadata": {},
   "source": [
    "# Add Method "
   ]
  },
  {
   "cell_type": "code",
   "execution_count": 32,
   "metadata": {},
   "outputs": [
    {
     "name": "stdout",
     "output_type": "stream",
     "text": [
      "i am a car\n",
      "i am duplicated\n",
      "A little help\n"
     ]
    }
   ],
   "source": [
    "class Car():\n",
    "    def exclaim(self):\n",
    "        print(\"i am a car\")\n",
    "class Yogo(Car):\n",
    "    def exclaim(self):\n",
    "        print(\"i am duplicated\")\n",
    "    def need_a_push(self):\n",
    "        print('A little help')\n",
    "give_me_a_car=Car()\n",
    "give_me_a_yugo=Yogo()\n",
    "give_me_a_car.exclaim()\n",
    "give_me_a_yugo.exclaim()\n",
    "give_me_a_yugo.need_a_push()"
   ]
  },
  {
   "cell_type": "markdown",
   "metadata": {},
   "source": [
    "# Super "
   ]
  },
  {
   "cell_type": "code",
   "execution_count": 34,
   "metadata": {},
   "outputs": [
    {
     "name": "stdout",
     "output_type": "stream",
     "text": [
      "bob\n",
      "bob@gmail\n"
     ]
    }
   ],
   "source": [
    "#Parent\n",
    "class Car():  \n",
    "    def __init__(self,name):\n",
    "        self.name=name\n",
    "class Emailperson(Car):\n",
    "    def __init__(self,name,email):\n",
    "        super().__init__(name)\n",
    "        self.email=email\n",
    "        \n",
    "bob=Emailperson('bob','bob@gmail')\n",
    "print(bob.name)\n",
    "print(bob.email)"
   ]
  },
  {
   "cell_type": "code",
   "execution_count": 35,
   "metadata": {},
   "outputs": [
    {
     "name": "stdout",
     "output_type": "stream",
     "text": [
      "na na na na \n",
      "na na na na \n",
      "hey hey hey \n",
      "goodbye\n"
     ]
    }
   ],
   "source": [
    "start='na '*4+'\\n'\n",
    "middle='hey '*3+'\\n'\n",
    "end= 'goodbye'\n",
    "print(start+start+middle+end)"
   ]
  },
  {
   "cell_type": "code",
   "execution_count": 36,
   "metadata": {},
   "outputs": [
    {
     "data": {
      "text/plain": [
       "'e'"
      ]
     },
     "execution_count": 36,
     "metadata": {},
     "output_type": "execute_result"
    }
   ],
   "source": [
    "leter='abcdef'\n",
    "leter[-2]\n"
   ]
  },
  {
   "cell_type": "markdown",
   "metadata": {},
   "source": [
    "# list"
   ]
  },
  {
   "cell_type": "code",
   "execution_count": 41,
   "metadata": {},
   "outputs": [
    {
     "name": "stdout",
     "output_type": "stream",
     "text": [
      "[] []\n",
      "['andy', 'terrence']\n"
     ]
    }
   ],
   "source": [
    "empty_list=[]\n",
    "Name_list=['andy','terrence']\n",
    "empty_list_1=list()\n",
    "print(empty_list,empty_list_1)\n",
    "print(Name_list)"
   ]
  },
  {
   "cell_type": "code",
   "execution_count": 39,
   "metadata": {},
   "outputs": [
    {
     "data": {
      "text/plain": [
       "['c', 'a', 't']"
      ]
     },
     "execution_count": 39,
     "metadata": {},
     "output_type": "execute_result"
    }
   ],
   "source": [
    "list('cat')"
   ]
  },
  {
   "cell_type": "code",
   "execution_count": 42,
   "metadata": {},
   "outputs": [
    {
     "data": {
      "text/plain": [
       "['andy', 'terrence']"
      ]
     },
     "execution_count": 42,
     "metadata": {},
     "output_type": "execute_result"
    }
   ],
   "source": [
    "a_tuble=('andy','terrence' )\n",
    "list(a_tuble)"
   ]
  },
  {
   "cell_type": "code",
   "execution_count": 53,
   "metadata": {},
   "outputs": [
    {
     "data": {
      "text/plain": [
       "'2017'"
      ]
     },
     "execution_count": 53,
     "metadata": {},
     "output_type": "execute_result"
    }
   ],
   "source": [
    "birthday='1/6/2017'\n",
    "birthday.split('/')[-1]"
   ]
  },
  {
   "cell_type": "code",
   "execution_count": 47,
   "metadata": {},
   "outputs": [
    {
     "data": {
      "text/plain": [
       "'/'"
      ]
     },
     "execution_count": 47,
     "metadata": {},
     "output_type": "execute_result"
    }
   ],
   "source": [
    "birthday[1]"
   ]
  },
  {
   "cell_type": "code",
   "execution_count": 46,
   "metadata": {},
   "outputs": [
    {
     "data": {
      "text/plain": [
       "'7'"
      ]
     },
     "execution_count": 46,
     "metadata": {},
     "output_type": "execute_result"
    }
   ],
   "source": [
    "birthday[2]"
   ]
  },
  {
   "cell_type": "code",
   "execution_count": 55,
   "metadata": {},
   "outputs": [
    {
     "name": "stdout",
     "output_type": "stream",
     "text": [
      "[['A', 'B'], ['C', 'D']]\n"
     ]
    }
   ],
   "source": [
    "small_bird=['A','B']\n",
    "big_bird=['C','D']\n",
    "All_birds=[small_bird,big_bird]\n",
    "print(All_birds)"
   ]
  },
  {
   "cell_type": "code",
   "execution_count": 65,
   "metadata": {},
   "outputs": [
    {
     "name": "stdout",
     "output_type": "stream",
     "text": [
      "[['A', 123], ['C', 'D']]\n"
     ]
    }
   ],
   "source": [
    "All_birds[0][1]\n",
    "All_birds[0][1]=123\n",
    "print(All_birds)"
   ]
  },
  {
   "cell_type": "code",
   "execution_count": 58,
   "metadata": {},
   "outputs": [
    {
     "data": {
      "text/plain": [
       "'a'"
      ]
     },
     "execution_count": 58,
     "metadata": {},
     "output_type": "execute_result"
    }
   ],
   "source": [
    "String='andy'\n",
    "String[0]"
   ]
  },
  {
   "cell_type": "code",
   "execution_count": 62,
   "metadata": {},
   "outputs": [
    {
     "ename": "TypeError",
     "evalue": "'str' object does not support item assignment",
     "output_type": "error",
     "traceback": [
      "\u001b[0;31m---------------------------------------------------------------------------\u001b[0m",
      "\u001b[0;31mTypeError\u001b[0m                                 Traceback (most recent call last)",
      "\u001b[0;32m<ipython-input-62-e8c03d96843f>\u001b[0m in \u001b[0;36m<module>\u001b[0;34m()\u001b[0m\n\u001b[0;32m----> 1\u001b[0;31m \u001b[0mString\u001b[0m\u001b[0;34m[\u001b[0m\u001b[0;36m0\u001b[0m\u001b[0;34m]\u001b[0m\u001b[0;34m=\u001b[0m\u001b[0;34m'b'\u001b[0m\u001b[0;34m\u001b[0m\u001b[0m\n\u001b[0m",
      "\u001b[0;31mTypeError\u001b[0m: 'str' object does not support item assignment"
     ]
    }
   ],
   "source": [
    "String[0]='b'"
   ]
  },
  {
   "cell_type": "code",
   "execution_count": 66,
   "metadata": {},
   "outputs": [
    {
     "name": "stdout",
     "output_type": "stream",
     "text": [
      "['C', 'D', 'E']\n"
     ]
    }
   ],
   "source": [
    "big_bird.append('E')\n",
    "print(big_bird)"
   ]
  },
  {
   "cell_type": "code",
   "execution_count": 71,
   "metadata": {},
   "outputs": [
    {
     "name": "stdout",
     "output_type": "stream",
     "text": [
      "None\n",
      "['C', 'D', 'E', 'F', 'G', 'F', 'G', 'F', 'G']\n"
     ]
    }
   ],
   "source": [
    "extned=['F','G']\n",
    "print(big_bird.extend(extned))   # equal +=\n",
    "print(big_bird)"
   ]
  },
  {
   "cell_type": "code",
   "execution_count": 74,
   "metadata": {},
   "outputs": [
    {
     "name": "stdout",
     "output_type": "stream",
     "text": [
      "[3, 'andy']\n",
      "['a', 3, 'andy']\n",
      "['a', 3, 'andy', 'a']\n"
     ]
    }
   ],
   "source": [
    "marxes=[3,'andy']\n",
    "print(marxes)\n",
    "marxes.insert(0,'a')\n",
    "print(marxes)\n",
    "marxes.insert(5,'a')\n",
    "print(marxes)"
   ]
  },
  {
   "cell_type": "code",
   "execution_count": 76,
   "metadata": {},
   "outputs": [
    {
     "name": "stdout",
     "output_type": "stream",
     "text": [
      "[3, 'andy', 'a']\n"
     ]
    }
   ],
   "source": [
    "del marxes[0]\n",
    "\n",
    "print(marxes)"
   ]
  },
  {
   "cell_type": "code",
   "execution_count": 77,
   "metadata": {},
   "outputs": [
    {
     "name": "stdout",
     "output_type": "stream",
     "text": [
      "[3, 'andy']\n"
     ]
    }
   ],
   "source": [
    "marxes.remove('a')\n",
    "print(marxes)"
   ]
  },
  {
   "cell_type": "code",
   "execution_count": 81,
   "metadata": {},
   "outputs": [
    {
     "name": "stdout",
     "output_type": "stream",
     "text": [
      "['terrence', 'terrence', 'terrence']\n",
      "['terrence', 'terrence', 'terrence', 'terrence']\n",
      "['terrence', 'terrence', 'terrence']\n"
     ]
    }
   ],
   "source": [
    "print(marxes)\n",
    "marxes.append('terrence')\n",
    "print(marxes)\n",
    "marxes.pop(0)\n",
    "print(marxes)"
   ]
  },
  {
   "cell_type": "code",
   "execution_count": 88,
   "metadata": {},
   "outputs": [
    {
     "name": "stdout",
     "output_type": "stream",
     "text": [
      "andy\n",
      "['terrence', 'ariel', 'hello']\n",
      "2\n"
     ]
    }
   ],
   "source": [
    "Max=['andy','terrence', 'ariel']\n",
    "print(Max.pop(0))\n",
    "Max.append('hello')\n",
    "print(Max)\n",
    "print(Max.index('hello'))\n"
   ]
  },
  {
   "cell_type": "code",
   "execution_count": 89,
   "metadata": {},
   "outputs": [
    {
     "data": {
      "text/plain": [
       "True"
      ]
     },
     "execution_count": 89,
     "metadata": {},
     "output_type": "execute_result"
    }
   ],
   "source": [
    "'hello' in Max"
   ]
  },
  {
   "cell_type": "code",
   "execution_count": 90,
   "metadata": {},
   "outputs": [
    {
     "data": {
      "text/plain": [
       "1"
      ]
     },
     "execution_count": 90,
     "metadata": {},
     "output_type": "execute_result"
    }
   ],
   "source": [
    "Max.count('hello')"
   ]
  },
  {
   "cell_type": "code",
   "execution_count": 92,
   "metadata": {},
   "outputs": [
    {
     "name": "stdout",
     "output_type": "stream",
     "text": [
      "[1, 2, 3]\n",
      "[1, 2, 3]\n",
      "[1, 2, 3]\n",
      "['hello', 2, 3]\n"
     ]
    }
   ],
   "source": [
    "a=[1,2,3]\n",
    "b=a.copy()\n",
    "c=list(a)\n",
    "d=a[:]\n",
    "e=a\n",
    "a[0]='hello'\n",
    "print(b)\n",
    "print(c)\n",
    "print(d)\n",
    "print(e)"
   ]
  },
  {
   "cell_type": "markdown",
   "metadata": {},
   "source": [
    "# Tuble"
   ]
  },
  {
   "cell_type": "code",
   "execution_count": 93,
   "metadata": {},
   "outputs": [
    {
     "name": "stdout",
     "output_type": "stream",
     "text": [
      "('Terrence',)\n"
     ]
    }
   ],
   "source": [
    "empty_tuble=()\n",
    "marx_tubl='Terrence',\n",
    "print(marx_tubl)"
   ]
  },
  {
   "cell_type": "code",
   "execution_count": 95,
   "metadata": {},
   "outputs": [
    {
     "name": "stdout",
     "output_type": "stream",
     "text": [
      "('terrence', 'andy', 'emi')\n"
     ]
    }
   ],
   "source": [
    "marx_tuble=('terrence','andy','emi',)\n",
    "print(marx_tuble)"
   ]
  },
  {
   "cell_type": "code",
   "execution_count": 97,
   "metadata": {},
   "outputs": [
    {
     "name": "stdout",
     "output_type": "stream",
     "text": [
      "terrence\n",
      "andy\n"
     ]
    }
   ],
   "source": [
    "a,b,c=marx_tuble\n",
    "print(a)\n",
    "print(b)"
   ]
  },
  {
   "cell_type": "markdown",
   "metadata": {},
   "source": [
    "# Dictionary"
   ]
  },
  {
   "cell_type": "code",
   "execution_count": 98,
   "metadata": {},
   "outputs": [],
   "source": [
    "empty_dict={}"
   ]
  },
  {
   "cell_type": "code",
   "execution_count": 99,
   "metadata": {},
   "outputs": [
    {
     "name": "stdout",
     "output_type": "stream",
     "text": [
      "{'work': 'to do list', 'day': '2018/01'}\n"
     ]
    }
   ],
   "source": [
    "acco={'day':'2018/01','work':\"to do list\"}\n",
    "print(acco)"
   ]
  },
  {
   "cell_type": "code",
   "execution_count": 100,
   "metadata": {},
   "outputs": [
    {
     "name": "stdout",
     "output_type": "stream",
     "text": [
      "{'name': 'andy', 'work': 'to do list', 'day': '2018/01'}\n"
     ]
    }
   ],
   "source": [
    "acco['name']='andy'\n",
    "print(acco)"
   ]
  },
  {
   "cell_type": "code",
   "execution_count": 101,
   "metadata": {},
   "outputs": [
    {
     "name": "stdout",
     "output_type": "stream",
     "text": [
      "{'funny': 'hahah', 'name': 'andy', 'work': 'to do list', 'day': '2018/01'}\n"
     ]
    }
   ],
   "source": [
    "others={'funny':'hahah'}\n",
    "acco.update(others)\n",
    "print(acco)"
   ]
  },
  {
   "cell_type": "code",
   "execution_count": null,
   "metadata": {},
   "outputs": [],
   "source": [
    "#dict 'key' is unique"
   ]
  },
  {
   "cell_type": "code",
   "execution_count": 102,
   "metadata": {},
   "outputs": [
    {
     "name": "stdout",
     "output_type": "stream",
     "text": [
      "{'name': 'andy', 'work': 'to do list', 'day': '2018/01'}\n"
     ]
    }
   ],
   "source": [
    "del acco['funny']\n",
    "print(acco)"
   ]
  },
  {
   "cell_type": "code",
   "execution_count": 103,
   "metadata": {},
   "outputs": [
    {
     "name": "stdout",
     "output_type": "stream",
     "text": [
      "{}\n"
     ]
    }
   ],
   "source": [
    "acco.clear()\n",
    "print(acco)"
   ]
  },
  {
   "cell_type": "code",
   "execution_count": 104,
   "metadata": {},
   "outputs": [
    {
     "name": "stdout",
     "output_type": "stream",
     "text": [
      "True\n"
     ]
    }
   ],
   "source": [
    "acco={'day':'2018/01','work':\"to do list\"}\n",
    "print('day' in acco)"
   ]
  },
  {
   "cell_type": "code",
   "execution_count": 108,
   "metadata": {},
   "outputs": [
    {
     "data": {
      "text/plain": [
       "'to do list'"
      ]
     },
     "execution_count": 108,
     "metadata": {},
     "output_type": "execute_result"
    }
   ],
   "source": [
    "acco['work']"
   ]
  },
  {
   "cell_type": "code",
   "execution_count": 112,
   "metadata": {},
   "outputs": [
    {
     "data": {
      "text/plain": [
       "'to do list'"
      ]
     },
     "execution_count": 112,
     "metadata": {},
     "output_type": "execute_result"
    }
   ],
   "source": [
    "acco.get('work','not in dict')\n"
   ]
  },
  {
   "cell_type": "code",
   "execution_count": 111,
   "metadata": {},
   "outputs": [
    {
     "data": {
      "text/plain": [
       "'not in dict'"
      ]
     },
     "execution_count": 111,
     "metadata": {},
     "output_type": "execute_result"
    }
   ],
   "source": [
    "acco.get('haah','not in dict')"
   ]
  },
  {
   "cell_type": "code",
   "execution_count": 124,
   "metadata": {},
   "outputs": [
    {
     "name": "stdout",
     "output_type": "stream",
     "text": [
      "['work', 'day']\n"
     ]
    }
   ],
   "source": [
    "acco={'day':'2018/01','work':\"to do list\"}\n",
    "print(list(acco.keys()))"
   ]
  },
  {
   "cell_type": "code",
   "execution_count": 122,
   "metadata": {},
   "outputs": [
    {
     "name": "stdout",
     "output_type": "stream",
     "text": [
      "['to do list', '2018/01']\n"
     ]
    }
   ],
   "source": [
    "\n",
    "print(list(acco.values())"
   ]
  },
  {
   "cell_type": "code",
   "execution_count": 125,
   "metadata": {},
   "outputs": [
    {
     "name": "stdout",
     "output_type": "stream",
     "text": [
      "dict_items([('work', 'to do list'), ('day', '2018/01')])\n",
      "[('work', 'to do list'), ('day', '2018/01')]\n"
     ]
    }
   ],
   "source": [
    "print(acco.items())\n",
    "print(list(acco.items()))"
   ]
  },
  {
   "cell_type": "markdown",
   "metadata": {},
   "source": [
    "# Set "
   ]
  },
  {
   "cell_type": "code",
   "execution_count": 126,
   "metadata": {},
   "outputs": [],
   "source": [
    "empty_set=()"
   ]
  },
  {
   "cell_type": "code",
   "execution_count": 129,
   "metadata": {},
   "outputs": [
    {
     "name": "stdout",
     "output_type": "stream",
     "text": [
      "{'q', 2, 4}\n"
     ]
    }
   ],
   "source": [
    "even_set={'q',2,4,}\n",
    "print(even_set)"
   ]
  },
  {
   "cell_type": "code",
   "execution_count": 127,
   "metadata": {},
   "outputs": [
    {
     "data": {
      "text/plain": [
       "{'e', 'l', 'r', 's', 't'}"
      ]
     },
     "execution_count": 127,
     "metadata": {},
     "output_type": "execute_result"
    }
   ],
   "source": [
    "set('letters')"
   ]
  },
  {
   "cell_type": "code",
   "execution_count": 130,
   "metadata": {},
   "outputs": [
    {
     "data": {
      "text/plain": [
       "{'birth', 'name'}"
      ]
     },
     "execution_count": 130,
     "metadata": {},
     "output_type": "execute_result"
    }
   ],
   "source": [
    "set({'name':'andy','birth':2014})"
   ]
  },
  {
   "cell_type": "code",
   "execution_count": 132,
   "metadata": {},
   "outputs": [],
   "source": [
    "drinks={\n",
    "    'martini':{'A','B'}\n",
    "    ,'Vodka':{'C','A'}\n",
    "    ,'manna':{'A','D'}\n",
    "}"
   ]
  },
  {
   "cell_type": "code",
   "execution_count": 134,
   "metadata": {},
   "outputs": [
    {
     "name": "stdout",
     "output_type": "stream",
     "text": [
      "dict_items([('Vodka', {'A', 'C'}), ('martini', {'B', 'A'}), ('manna', {'A', 'D'})])\n"
     ]
    }
   ],
   "source": [
    "print(drinks.items())"
   ]
  },
  {
   "cell_type": "code",
   "execution_count": 137,
   "metadata": {},
   "outputs": [
    {
     "name": "stdout",
     "output_type": "stream",
     "text": [
      "Vodka\n",
      "martini\n",
      "manna\n"
     ]
    }
   ],
   "source": [
    "for name,contents in drinks.items():\n",
    "    if contents &{'A'}:\n",
    "        print(name)"
   ]
  },
  {
   "cell_type": "code",
   "execution_count": 138,
   "metadata": {},
   "outputs": [
    {
     "name": "stdout",
     "output_type": "stream",
     "text": [
      "Vodka\n",
      "manna\n"
     ]
    }
   ],
   "source": [
    "for name,contents in drinks.items():\n",
    "    if contents &{'A'} and not contents & {'B'}:\n",
    "        print(name)"
   ]
  },
  {
   "cell_type": "code",
   "execution_count": 140,
   "metadata": {},
   "outputs": [
    {
     "name": "stdout",
     "output_type": "stream",
     "text": [
      "{2} {1, 2, 3} {1}\n"
     ]
    }
   ],
   "source": [
    "a = {1,2}\n",
    "b={2,3}\n",
    "print(a & b,a|b,a-b)\n"
   ]
  },
  {
   "cell_type": "markdown",
   "metadata": {},
   "source": [
    "# process structure"
   ]
  },
  {
   "cell_type": "code",
   "execution_count": 142,
   "metadata": {
    "scrolled": true
   },
   "outputs": [
    {
     "name": "stdout",
     "output_type": "stream",
     "text": [
      "string [q=quit]2\n",
      "2\n",
      "string [q=quit]q\n"
     ]
    }
   ],
   "source": [
    "while True:\n",
    "    stuff=input('string [q=quit]')\n",
    "    if stuff =='q':\n",
    "        break\n",
    "    print(stuff.capitalize())"
   ]
  },
  {
   "cell_type": "code",
   "execution_count": 145,
   "metadata": {},
   "outputs": [
    {
     "name": "stdout",
     "output_type": "stream",
     "text": [
      "andy\n",
      "Terrrence\n",
      "terry\n"
     ]
    }
   ],
   "source": [
    "Names=['andy', 'Terrrence','terry']\n",
    "current =0 \n",
    "while current<len(Names):\n",
    "    print(Names[current])\n",
    "    current+=1\n"
   ]
  },
  {
   "cell_type": "code",
   "execution_count": 147,
   "metadata": {},
   "outputs": [
    {
     "name": "stdout",
     "output_type": "stream",
     "text": [
      "andy\n",
      "Terrrence\n",
      "terry\n"
     ]
    }
   ],
   "source": [
    "for name in Names:\n",
    "    print(name)"
   ]
  },
  {
   "cell_type": "code",
   "execution_count": 148,
   "metadata": {},
   "outputs": [
    {
     "name": "stdout",
     "output_type": "stream",
     "text": [
      "andy\n",
      "ballroom\n",
      "123\n"
     ]
    }
   ],
   "source": [
    "Clue={'room':'ballroom','lead':'andy','number':123}\n",
    "for name in Clue.values():\n",
    "    print(name)"
   ]
  },
  {
   "cell_type": "code",
   "execution_count": 149,
   "metadata": {},
   "outputs": [
    {
     "name": "stdout",
     "output_type": "stream",
     "text": [
      "('lead', 'andy')\n",
      "('room', 'ballroom')\n",
      "('number', 123)\n"
     ]
    }
   ],
   "source": [
    "for name in Clue.items():\n",
    "    print(name)"
   ]
  },
  {
   "cell_type": "code",
   "execution_count": 150,
   "metadata": {},
   "outputs": [
    {
     "name": "stdout",
     "output_type": "stream",
     "text": [
      "lead andy\n",
      "room ballroom\n",
      "number 123\n"
     ]
    }
   ],
   "source": [
    "for a,b in Clue.items():\n",
    "    print(a,b)"
   ]
  },
  {
   "cell_type": "markdown",
   "metadata": {},
   "source": [
    "# comprhesion"
   ]
  },
  {
   "cell_type": "code",
   "execution_count": 153,
   "metadata": {},
   "outputs": [
    {
     "name": "stdout",
     "output_type": "stream",
     "text": [
      "[1, 2, 3, 4, 5]\n"
     ]
    }
   ],
   "source": [
    "number_list=[]\n",
    "for number in range(1,6):\n",
    "    number_list.append(number)\n",
    "print(number_list)"
   ]
  },
  {
   "cell_type": "code",
   "execution_count": 155,
   "metadata": {},
   "outputs": [
    {
     "name": "stdout",
     "output_type": "stream",
     "text": [
      "[-1, 0, 1, 2, 3]\n"
     ]
    }
   ],
   "source": [
    "number_list=[number-2 for number in range(1,6)]\n",
    "print(number_list)"
   ]
  },
  {
   "cell_type": "code",
   "execution_count": 156,
   "metadata": {},
   "outputs": [
    {
     "name": "stdout",
     "output_type": "stream",
     "text": [
      "[1, 3, 5]\n"
     ]
    }
   ],
   "source": [
    "number_list=[number for number in range(1,6) if number%2==1]\n",
    "print(number_list)"
   ]
  },
  {
   "cell_type": "code",
   "execution_count": 157,
   "metadata": {},
   "outputs": [
    {
     "name": "stdout",
     "output_type": "stream",
     "text": [
      "[1, 3, 5]\n"
     ]
    }
   ],
   "source": [
    "a_list=[]\n",
    "for number in range(1,6):\n",
    "    if number%2==1:\n",
    "        a_list.append(number)\n",
    "print(a_list)"
   ]
  },
  {
   "cell_type": "code",
   "execution_count": 158,
   "metadata": {},
   "outputs": [
    {
     "name": "stdout",
     "output_type": "stream",
     "text": [
      "1 1\n",
      "1 2\n",
      "2 1\n",
      "2 2\n",
      "3 1\n",
      "3 2\n"
     ]
    }
   ],
   "source": [
    "rows=range(1,4)\n",
    "cols=range(1,3)\n",
    "for row in rows:\n",
    "    for col in cols:\n",
    "        print(row,col)"
   ]
  },
  {
   "cell_type": "code",
   "execution_count": 160,
   "metadata": {},
   "outputs": [
    {
     "name": "stdout",
     "output_type": "stream",
     "text": [
      "[(1, 2), (1, 2), (2, 2), (2, 2), (3, 2), (3, 2)]\n",
      "(1, 2)\n",
      "(1, 2)\n",
      "(2, 2)\n",
      "(2, 2)\n",
      "(3, 2)\n",
      "(3, 2)\n"
     ]
    }
   ],
   "source": [
    "rows=range(1,4)\n",
    "cols=range(1,3)\n",
    "cells=[(row,col) for row in rows for clo in cols]\n",
    "print(cells)\n",
    "for cell in cells:\n",
    "    print(cell)"
   ]
  },
  {
   "cell_type": "code",
   "execution_count": 161,
   "metadata": {},
   "outputs": [
    {
     "name": "stdout",
     "output_type": "stream",
     "text": [
      "{'t': 2, 'r': 1, 's': 1, 'e': 2, 'l': 1}\n"
     ]
    }
   ],
   "source": [
    "word='letters'\n",
    "letter_counts={letter:word.count(letter) for letter in word}\n",
    "print(letter_counts)"
   ]
  },
  {
   "cell_type": "markdown",
   "metadata": {},
   "source": [
    "# test"
   ]
  },
  {
   "cell_type": "code",
   "execution_count": 165,
   "metadata": {},
   "outputs": [
    {
     "name": "stdout",
     "output_type": "stream",
     "text": [
      "{'b': 123, 'a': 123, 'time': 456, 'c': 123}\n"
     ]
    }
   ],
   "source": [
    "dict={\"a\":123,'b':123,'c':123}\n",
    "dict['time']=456\n",
    "print(dict)"
   ]
  },
  {
   "cell_type": "code",
   "execution_count": 179,
   "metadata": {
    "scrolled": true
   },
   "outputs": [
    {
     "name": "stdout",
     "output_type": "stream",
     "text": [
      "{'energy': {'time': 456, 'ppp': 456}, 'security': {'time': 456, 'ppp': 456}}\n"
     ]
    }
   ],
   "source": [
    "parent_names = {\n",
    "    'energy': '222',\n",
    "    'security': '333'\n",
    "}\n",
    "for name in parent_names:\n",
    "    data[name]={}\n",
    "\n",
    "for name in parent_names:\n",
    "    data[name]['time']=456\n",
    "    data[name]['ppp']=456\n",
    "print(data)\n",
    "\n"
   ]
  },
  {
   "cell_type": "code",
   "execution_count": null,
   "metadata": {},
   "outputs": [],
   "source": [
    "for parent in parent_names:\n",
    "    data[parent][\"time\"]='456'\n",
    "    print(data)"
   ]
  },
  {
   "cell_type": "markdown",
   "metadata": {},
   "source": [
    "# sep end"
   ]
  },
  {
   "cell_type": "code",
   "execution_count": 5,
   "metadata": {},
   "outputs": [
    {
     "name": "stdout",
     "output_type": "stream",
     "text": [
      "anc edf fdfsd\n",
      "ancedffdfsd\n",
      "ancXDDedfXDDfdfsd111"
     ]
    }
   ],
   "source": [
    "print('anc','edf','fdfsd')\n",
    "print('anc','edf','fdfsd',sep='')\n",
    "print('anc','edf','fdfsd',sep='XDD',end='111')"
   ]
  },
  {
   "cell_type": "code",
   "execution_count": 11,
   "metadata": {},
   "outputs": [
    {
     "name": "stdout",
     "output_type": "stream",
     "text": [
      "1\n",
      "2\n",
      "3\n",
      "4\n",
      "4\n"
     ]
    }
   ],
   "source": [
    "for i in range(1,5):\n",
    "    print(i,sep='@',end='\\n')\n",
    "print(i)"
   ]
  },
  {
   "cell_type": "code",
   "execution_count": null,
   "metadata": {},
   "outputs": [],
   "source": []
  }
 ],
 "metadata": {
  "kernelspec": {
   "display_name": "Python 3",
   "language": "python",
   "name": "python3"
  },
  "language_info": {
   "codemirror_mode": {
    "name": "ipython",
    "version": 3
   },
   "file_extension": ".py",
   "mimetype": "text/x-python",
   "name": "python",
   "nbconvert_exporter": "python",
   "pygments_lexer": "ipython3",
   "version": "3.5.2"
  }
 },
 "nbformat": 4,
 "nbformat_minor": 1
}
