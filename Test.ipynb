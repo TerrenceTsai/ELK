{
 "cells": [
  {
   "cell_type": "code",
   "execution_count": null,
   "metadata": {
    "collapsed": true
   },
   "outputs": [],
   "source": [
    "i=1\n",
    "print(i)"
   ]
  },
  {
   "cell_type": "heading",
   "metadata": {},
   "level": 2,
   "source": [
    ""
   ]
  },
  {
   "cell_type": "markdown",
   "metadata": {
    "collapsed": false
   },
   "source": [
    "import csv\n",
    "import os\n",
    "import sys\n",
    "pathdata = '/home/user/development/hello_python/modbus'\n",
    "os.chdir(pathdata)\n",
    "\n",
    "if os.getcwd() != pathdata:\n",
    "    print(\"Error\")\n",
    "    sys.exit()\n",
    "    \n",
    "f =open(pathdata+'/15103EZM_DB201.csv','r')\n",
    "csvCursor = csv.reader(f)\n",
    "\n",
    "for row in csvCursor:\n",
    "    print(row)\n",
    "\n",
    "file.close()"
   ]
  }
 ],
 "metadata": {
  "kernelspec": {
   "display_name": "Python 2",
   "language": "python",
   "name": "python2"
  },
  "language_info": {
   "codemirror_mode": {
    "name": "ipython",
    "version": 2
   },
   "file_extension": ".py",
   "mimetype": "text/x-python",
   "name": "python",
   "nbconvert_exporter": "python",
   "pygments_lexer": "ipython2",
   "version": "2.7.6"
  }
 },
 "nbformat": 4,
 "nbformat_minor": 0
}
