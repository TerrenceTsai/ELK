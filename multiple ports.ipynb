{
 "cells": [
  {
   "cell_type": "code",
   "execution_count": 3,
   "metadata": {},
   "outputs": [
    {
     "ename": "ImportError",
     "evalue": "No module named 'pymodbus'",
     "traceback": [
      "\u001b[0;31m---------------------------------------------------------------------------\u001b[0m",
      "\u001b[0;31mImportError\u001b[0m                               Traceback (most recent call last)",
      "\u001b[0;32m<ipython-input-3-6e91a47fef26>\u001b[0m in \u001b[0;36m<module>\u001b[0;34m()\u001b[0m\n\u001b[0;32m----> 1\u001b[0;31m \u001b[0;32mfrom\u001b[0m \u001b[0mpymodbus\u001b[0m\u001b[0;34m.\u001b[0m\u001b[0mclient\u001b[0m\u001b[0;34m.\u001b[0m\u001b[0msync\u001b[0m \u001b[0;32mimport\u001b[0m \u001b[0mModbusTcpClient\u001b[0m\u001b[0;34m\u001b[0m\u001b[0m\n\u001b[0m\u001b[1;32m      2\u001b[0m \u001b[0;34m\u001b[0m\u001b[0m\n\u001b[1;32m      3\u001b[0m \u001b[0mclient\u001b[0m \u001b[0;34m=\u001b[0m \u001b[0mModbusTcpClient\u001b[0m\u001b[0;34m(\u001b[0m\u001b[0;34m'192.168.0.52'\u001b[0m\u001b[0;34m)\u001b[0m\u001b[0;34m\u001b[0m\u001b[0m\n\u001b[1;32m      4\u001b[0m \u001b[0mclient\u001b[0m\u001b[0;34m.\u001b[0m\u001b[0mwrite_coil\u001b[0m\u001b[0;34m(\u001b[0m\u001b[0;36m1\u001b[0m\u001b[0;34m,\u001b[0m \u001b[0;32mTrue\u001b[0m\u001b[0;34m)\u001b[0m\u001b[0;34m\u001b[0m\u001b[0m\n\u001b[1;32m      5\u001b[0m \u001b[0mresult\u001b[0m \u001b[0;34m=\u001b[0m \u001b[0mclient\u001b[0m\u001b[0;34m.\u001b[0m\u001b[0mread_coils\u001b[0m\u001b[0;34m(\u001b[0m\u001b[0;36m1\u001b[0m\u001b[0;34m,\u001b[0m\u001b[0;36m1\u001b[0m\u001b[0;34m)\u001b[0m\u001b[0;34m\u001b[0m\u001b[0m\n",
      "\u001b[0;31mImportError\u001b[0m: No module named 'pymodbus'"
     ],
     "output_type": "error"
    }
   ],
   "source": [
    "from pymodbus.client.sync import ModbusTcpClient\n",
    "\n",
    "client = ModbusTcpClient('192.168.0.52')\n",
    "client.write_coil(1, True)\n",
    "result = client.read_coils(1,1)\n",
    "print(result.bits[0])\n",
    "print()\n",
    "client.close()"
   ]
  },
  {
   "cell_type": "code",
   "execution_count": 2,
   "metadata": {},
   "outputs": [
    {
     "ename": "NameError",
     "evalue": "name 'ModbusTcpClient' is not defined",
     "traceback": [
      "\u001b[0;31m---------------------------------------------------------------------------\u001b[0m",
      "\u001b[0;31mNameError\u001b[0m                                 Traceback (most recent call last)",
      "\u001b[0;32m<ipython-input-2-be3c95435d6a>\u001b[0m in \u001b[0;36m<module>\u001b[0;34m()\u001b[0m\n\u001b[1;32m      8\u001b[0m '''\n\u001b[1;32m      9\u001b[0m \u001b[0;34m\u001b[0m\u001b[0m\n\u001b[0;32m---> 10\u001b[0;31m \u001b[0mclient\u001b[0m \u001b[0;34m=\u001b[0m \u001b[0mModbusTcpClient\u001b[0m\u001b[0;34m(\u001b[0m\u001b[0;34m'192.168.0.52'\u001b[0m\u001b[0;34m,\u001b[0m \u001b[0mport\u001b[0m\u001b[0;34m=\u001b[0m\u001b[0;36m502\u001b[0m\u001b[0;34m)\u001b[0m\u001b[0;34m\u001b[0m\u001b[0m\n\u001b[0m\u001b[1;32m     11\u001b[0m \u001b[0mprint\u001b[0m\u001b[0;34m(\u001b[0m\u001b[0mclient\u001b[0m\u001b[0;34m.\u001b[0m\u001b[0mread_holding_registers\u001b[0m\u001b[0;34m(\u001b[0m\u001b[0maddress\u001b[0m\u001b[0;34m=\u001b[0m\u001b[0;36m1\u001b[0m\u001b[0;34m,\u001b[0m \u001b[0mcount\u001b[0m\u001b[0;34m=\u001b[0m\u001b[0;36m124\u001b[0m\u001b[0;34m,\u001b[0m \u001b[0munit\u001b[0m\u001b[0;34m=\u001b[0m\u001b[0;36m1\u001b[0m\u001b[0;34m)\u001b[0m\u001b[0;34m.\u001b[0m\u001b[0mregisters\u001b[0m\u001b[0;34m)\u001b[0m\u001b[0;34m\u001b[0m\u001b[0m\n\u001b[1;32m     12\u001b[0m \u001b[0mclient\u001b[0m\u001b[0;34m.\u001b[0m\u001b[0mclose\u001b[0m\u001b[0;34m(\u001b[0m\u001b[0;34m)\u001b[0m\u001b[0;34m\u001b[0m\u001b[0m\n",
      "\u001b[0;31mNameError\u001b[0m: name 'ModbusTcpClient' is not defined"
     ],
     "output_type": "error"
    }
   ],
   "source": [
    "'''\n",
    "192.168.0.52\n",
    "port:\n",
    "502 id 2 start address 40001-40125 word\n",
    "503 id 3\n",
    "...\n",
    "507 id 7\n",
    "'''\n",
    "\n",
    "client = ModbusTcpClient('192.168.0.52', port=502)\n",
    "print(client.read_holding_registers(address=1, count=124, unit=1).registers)\n",
    "client.close()"
   ]
  },
  {
   "cell_type": "code",
   "execution_count": null,
   "metadata": {},
   "outputs": [],
   "source": []
  },
  {
   "cell_type": "markdown",
   "metadata": {},
   "source": [
    "## Synchronized\n",
    "no print    \n",
    "CPU times: user 4 ms, sys: 0 ns, total: 4 ms  \n",
    "Wall time: 2.31 s"
   ]
  },
  {
   "cell_type": "code",
   "execution_count": 74,
   "metadata": {},
   "outputs": [
    {
     "name": "stdout",
     "output_type": "stream",
     "text": [
      "Done!\n",
      "CPU times: user 0 ns, sys: 4 ms, total: 4 ms\n",
      "Wall time: 2.37 s\n"
     ]
    }
   ],
   "source": [
    "%%time\n",
    "from pymodbus.client.sync import ModbusTcpClient\n",
    "\n",
    "if __name__ == \"__main__\":\n",
    "    for port in range(502, 508):\n",
    "        client = ModbusTcpClient('192.168.0.52', port=port)\n",
    "        reg = client.read_holding_registers(address=0, count=124, unit=1).registers\n",
    "        #print('port:{} | registers:{}'.format(port, reg))\n",
    "        client.close()\n",
    "    print(\"Done!\")"
   ]
  },
  {
   "cell_type": "markdown",
   "metadata": {},
   "source": [
    "## Multiprocess\n",
    "no print  \n",
    "CPU times: user 8 ms, sys: 24 ms, total: 32 ms  \n",
    "Wall time: 341 ms\n"
   ]
  },
  {
   "cell_type": "code",
   "execution_count": 49,
   "metadata": {},
   "outputs": [
    {
     "name": "stdout",
     "output_type": "stream",
     "text": [
      "Done!\n",
      "CPU times: user 8 ms, sys: 24 ms, total: 32 ms\n",
      "Wall time: 341 ms\n"
     ]
    }
   ],
   "source": [
    "%%time\n",
    "from pymodbus.client.sync import ModbusTcpClient\n",
    "import multiprocessing\n",
    "\n",
    "def rhr_cycle(ip, port, address=0, count=124, unit=1):\n",
    "    client = ModbusTcpClient(ip, port=port)\n",
    "    reg = client.read_holding_registers(address=address, count=count, unit=unit).registers\n",
    "    #print('port:{} | registers:{}'.format(port, reg))\n",
    "    client.close()\n",
    "\n",
    "if __name__ == \"__main__\":\n",
    "    \n",
    "    ip = '192.168.0.52'\n",
    "    ports = range(502,508)\n",
    "    processes = []\n",
    "    for port in ports:\n",
    "        read_process = multiprocessing.Process(target=rhr_cycle, args=(ip,port))\n",
    "        processes.append(read_process)\n",
    "    for process in processes:\n",
    "        process.start()\n",
    "        \n",
    "    for process in processes:\n",
    "        process.join()\n",
    "\n",
    "\n",
    "    print(\"Done!\")"
   ]
  },
  {
   "cell_type": "markdown",
   "metadata": {},
   "source": [
    "# gevent async\n",
    "no print  \n",
    "CPU times: user 4 ms, sys: 4 ms, total: 8 ms  \n",
    "Wall time: 2.34 s  "
   ]
  },
  {
   "cell_type": "code",
   "execution_count": 68,
   "metadata": {},
   "outputs": [
    {
     "name": "stdout",
     "output_type": "stream",
     "text": [
      "CPU times: user 0 ns, sys: 4 ms, total: 4 ms\n",
      "Wall time: 2.32 s\n"
     ]
    }
   ],
   "source": [
    "%%time\n",
    "import gevent\n",
    "import os\n",
    "\n",
    "def rhr_cycle(ip, port, address=0, count=124, unit=1):\n",
    "    client = ModbusTcpClient(ip, port=port)\n",
    "    reg = client.read_holding_registers(address=address, count=count, unit=unit).registers\n",
    "    #print('port:{} | registers:{}'.format(port, reg))\n",
    "    client.close()\n",
    "    \n",
    "if __name__ == \"__main__\":\n",
    "    ip = '192.168.0.52'\n",
    "    ports = range(502,508)\n",
    "    threads = [gevent.spawn(rhr_cycle, ip, port) for port in ports]\n",
    "    gevent.joinall(threads)"
   ]
  },
  {
   "cell_type": "markdown",
   "metadata": {},
   "source": [
    "## async with multiprocess\n",
    "CPU times: user 4 ms, sys: 12 ms, total: 16 ms  \n",
    "Wall time: 817 ms"
   ]
  },
  {
   "cell_type": "code",
   "execution_count": 83,
   "metadata": {},
   "outputs": [
    {
     "name": "stdout",
     "output_type": "stream",
     "text": [
      "Done!\n",
      "CPU times: user 4 ms, sys: 20 ms, total: 24 ms\n",
      "Wall time: 822 ms\n"
     ]
    }
   ],
   "source": [
    "%%time\n",
    "from pymodbus.client.sync import ModbusTcpClient\n",
    "from multiprocessing import Pool, TimeoutError\n",
    "import os\n",
    "\n",
    "def rhr_cycle(ip, port, address=0, count=124, unit=1):\n",
    "    client = ModbusTcpClient(ip, port=port)\n",
    "    reg = client.read_holding_registers(address=address, count=count, unit=unit).registers\n",
    "    ret_string = 'ppid:{} | pid:{} | port:{} | register:{}'.format(os.getppid(), os.getpid(), port, reg)\n",
    "    client.close()\n",
    "    #print(ret_string)\n",
    "\n",
    "def async_task(task, ip, ports, intervals=1):\n",
    "    threads = [gevent.spawn(task, ip, port) for port in ports]\n",
    "    gevent.joinall(threads)\n",
    "\n",
    "if __name__ == \"__main__\":\n",
    "    \n",
    "    ip = '192.168.0.52'\n",
    "    results = []\n",
    "    num_process = 3\n",
    "    ports_assign = {\n",
    "        0: [502,503],\n",
    "        1: [504,505],\n",
    "        2: [506,507]\n",
    "    }\n",
    "    with Pool(processes=num_process) as pool:\n",
    "        results = [pool.apply_async(async_task, args=(rhr_cycle, ip, ports_assign[ports])) for ports in ports_assign]\n",
    "        for result in results:\n",
    "            result.get()\n",
    "    print(\"Done!\")"
   ]
  },
  {
   "cell_type": "markdown",
   "metadata": {},
   "source": [
    "## multiprocess duration test"
   ]
  },
  {
   "cell_type": "code",
   "execution_count": 232,
   "metadata": {},
   "outputs": [
    {
     "name": "stdout",
     "output_type": "stream",
     "text": [
      "1510561463\n",
      "1510561463.274439\n"
     ]
    }
   ],
   "source": [
    "a = ModbusTcpClient('10.101.100.123', port=503)\n",
    "a.port\n",
    "print(math.floor(time.time()))\n",
    "print(time.time())"
   ]
  },
  {
   "cell_type": "code",
   "execution_count": 6,
   "metadata": {},
   "outputs": [
    {
     "name": "stdout",
     "output_type": "stream",
     "text": [
      "time elap:0.38 | port:503 | pid:12724\n",
      "time elap:0.38 | port:502 | pid:12723\n",
      "time elap:0.39 | port:505 | pid:12726\n",
      "time elap:0.38 | port:504 | pid:12725\n",
      "time elap:0.39 | port:506 | pid:12727\n",
      "time elap:0.39 | port:507 | pid:12728\n",
      "time elap:0.88 | port:502 | pid:12723\n",
      "time elap:0.88 | port:504 | pid:12725\n",
      "time elap:0.88 | port:503 | pid:12724\n",
      "time elap:0.89 | port:505 | pid:12726\n",
      "time elap:0.89 | port:507 | pid:12728\n",
      "time elap:0.89 | port:506 | pid:12727\n",
      "time elap:1.78 | port:502 | pid:12723\n",
      "time elap:1.78 | port:503 | pid:12724\n",
      "time elap:1.78 | port:504 | pid:12725\n",
      "time elap:1.79 | port:506 | pid:12727\n",
      "time elap:1.79 | port:507 | pid:12728\n",
      "time elap:1.79 | port:505 | pid:12726\n"
     ]
    },
    {
     "name": "stderr",
     "output_type": "stream",
     "text": [
      "Process ForkPoolWorker-34:\n",
      "Process ForkPoolWorker-32:\n",
      "Process ForkPoolWorker-35:\n",
      "Process ForkPoolWorker-33:\n",
      "Process ForkPoolWorker-31:\n",
      "Traceback (most recent call last):\n",
      "Process ForkPoolWorker-36:\n",
      "Traceback (most recent call last):\n",
      "Traceback (most recent call last):\n",
      "Traceback (most recent call last):\n",
      "Traceback (most recent call last):\n",
      "Traceback (most recent call last):\n",
      "  File \"/home/eric/anaconda3/lib/python3.6/multiprocessing/process.py\", line 258, in _bootstrap\n",
      "    self.run()\n",
      "  File \"/home/eric/anaconda3/lib/python3.6/multiprocessing/process.py\", line 258, in _bootstrap\n",
      "    self.run()\n",
      "  File \"/home/eric/anaconda3/lib/python3.6/multiprocessing/process.py\", line 258, in _bootstrap\n",
      "    self.run()\n",
      "  File \"/home/eric/anaconda3/lib/python3.6/multiprocessing/process.py\", line 258, in _bootstrap\n",
      "    self.run()\n",
      "  File \"/home/eric/anaconda3/lib/python3.6/multiprocessing/process.py\", line 258, in _bootstrap\n",
      "    self.run()\n",
      "  File \"/home/eric/anaconda3/lib/python3.6/multiprocessing/process.py\", line 258, in _bootstrap\n",
      "    self.run()\n",
      "  File \"/home/eric/anaconda3/lib/python3.6/multiprocessing/process.py\", line 93, in run\n",
      "    self._target(*self._args, **self._kwargs)\n",
      "  File \"/home/eric/anaconda3/lib/python3.6/multiprocessing/process.py\", line 93, in run\n",
      "    self._target(*self._args, **self._kwargs)\n",
      "  File \"/home/eric/anaconda3/lib/python3.6/multiprocessing/process.py\", line 93, in run\n",
      "    self._target(*self._args, **self._kwargs)\n",
      "  File \"/home/eric/anaconda3/lib/python3.6/multiprocessing/process.py\", line 93, in run\n",
      "    self._target(*self._args, **self._kwargs)\n",
      "  File \"/home/eric/anaconda3/lib/python3.6/multiprocessing/process.py\", line 93, in run\n",
      "    self._target(*self._args, **self._kwargs)\n",
      "  File \"/home/eric/anaconda3/lib/python3.6/multiprocessing/pool.py\", line 119, in worker\n",
      "    result = (True, func(*args, **kwds))\n",
      "  File \"/home/eric/anaconda3/lib/python3.6/multiprocessing/pool.py\", line 119, in worker\n",
      "    result = (True, func(*args, **kwds))\n",
      "  File \"/home/eric/anaconda3/lib/python3.6/multiprocessing/process.py\", line 93, in run\n",
      "    self._target(*self._args, **self._kwargs)\n",
      "  File \"/home/eric/anaconda3/lib/python3.6/multiprocessing/pool.py\", line 119, in worker\n",
      "    result = (True, func(*args, **kwds))\n",
      "  File \"/home/eric/anaconda3/lib/python3.6/multiprocessing/pool.py\", line 44, in mapstar\n",
      "    return list(map(*args))\n",
      "  File \"/home/eric/anaconda3/lib/python3.6/multiprocessing/pool.py\", line 119, in worker\n",
      "    result = (True, func(*args, **kwds))\n",
      "  File \"/home/eric/anaconda3/lib/python3.6/multiprocessing/pool.py\", line 44, in mapstar\n",
      "    return list(map(*args))\n",
      "  File \"<ipython-input-6-28d5cdb5933b>\", line 24, in runner\n",
      "    time.sleep(sleep_time)\n",
      "  File \"<ipython-input-6-28d5cdb5933b>\", line 24, in runner\n",
      "    time.sleep(sleep_time)\n",
      "  File \"/home/eric/anaconda3/lib/python3.6/multiprocessing/pool.py\", line 119, in worker\n",
      "    result = (True, func(*args, **kwds))\n",
      "  File \"/home/eric/anaconda3/lib/python3.6/multiprocessing/pool.py\", line 44, in mapstar\n",
      "    return list(map(*args))\n",
      "KeyboardInterrupt\n",
      "  File \"/home/eric/anaconda3/lib/python3.6/multiprocessing/pool.py\", line 119, in worker\n",
      "    result = (True, func(*args, **kwds))\n",
      "  File \"/home/eric/anaconda3/lib/python3.6/multiprocessing/pool.py\", line 44, in mapstar\n",
      "    return list(map(*args))\n",
      "  File \"/home/eric/anaconda3/lib/python3.6/multiprocessing/pool.py\", line 44, in mapstar\n",
      "    return list(map(*args))\n",
      "  File \"<ipython-input-6-28d5cdb5933b>\", line 24, in runner\n",
      "    time.sleep(sleep_time)\n",
      "  File \"<ipython-input-6-28d5cdb5933b>\", line 24, in runner\n",
      "    time.sleep(sleep_time)\n",
      "  File \"<ipython-input-6-28d5cdb5933b>\", line 24, in runner\n",
      "    time.sleep(sleep_time)\n",
      "KeyboardInterrupt\n",
      "KeyboardInterrupt\n",
      "KeyboardInterrupt\n",
      "KeyboardInterrupt\n",
      "  File \"/home/eric/anaconda3/lib/python3.6/multiprocessing/pool.py\", line 44, in mapstar\n",
      "    return list(map(*args))\n",
      "  File \"<ipython-input-6-28d5cdb5933b>\", line 24, in runner\n",
      "    time.sleep(sleep_time)\n",
      "KeyboardInterrupt\n"
     ]
    }
   ],
   "source": [
    "import sys\n",
    "import os\n",
    "import time\n",
    "import math\n",
    "from pymodbus.client.sync import ModbusTcpClient\n",
    "from pymodbus.exceptions import ConnectionException\n",
    "from multiprocessing import Pool, TimeoutError\n",
    "\n",
    "start_time = time.time()\n",
    "ip = '192.168.0.52'\n",
    "ports = range(502,508)\n",
    "clients = list([ModbusTcpClient(ip, port=port) for port in ports])\n",
    "\n",
    "def runner(client):\n",
    "    global start_time\n",
    "    next_time = math.floor(time.time())\n",
    "    while True:\n",
    "        if (time.time() - start_time > 60*60*10):\n",
    "            break\n",
    "        if time.time() > next_time:\n",
    "            next_time += 1\n",
    "        else:\n",
    "            sleep_time = max(0.2, next_time - time.time())\n",
    "            time.sleep(sleep_time)\n",
    "            continue\n",
    "        \n",
    "        \n",
    "        reg = client.read_holding_registers(address=0, count=124, unit=1).registers\n",
    "        #print(reg)\n",
    "        info = 'time elap:{:1.2f} | port:{} | pid:{}'.format\n",
    "        print(info(time.time()-start_time, client.port, os.getpid()))\n",
    "\n",
    "\n",
    "\n",
    "if __name__ == \"__main__\":\n",
    "    pool = Pool(6)\n",
    "\n",
    "    while True:\n",
    "        try:\n",
    "            results = pool.map_async(runner, clients)\n",
    "            results.get()\n",
    "        except ConnectionException:\n",
    "            print('Connection Exception')\n",
    "            pool.terminate()\n",
    "            continue\n",
    "        except KeyboardInterrupt:\n",
    "            pool.terminate()\n",
    "            break\n",
    "        # except: # other errors\n",
    "        #     e = sys.exc_info()[0]\n",
    "        #     print('Other error: {}'.format(e))\n",
    "        #     pool.terminate()\n",
    "\n",
    "    pool.close()\n",
    "    pool.join()"
   ]
  },
  {
   "cell_type": "code",
   "execution_count": 214,
   "metadata": {},
   "outputs": [
    {
     "name": "stdout",
     "output_type": "stream",
     "text": [
      "1510560999.4652064\n",
      "1510560999\n"
     ]
    }
   ],
   "source": [
    "print(time.time())\n",
    "print(round(time.time()))"
   ]
  },
  {
   "cell_type": "code",
   "execution_count": 102,
   "metadata": {},
   "outputs": [
    {
     "ename": "TypeError",
     "evalue": "'ApplyResult' object does not support indexing",
     "traceback": [
      "\u001b[0;31m---------------------------------------------------------------------------\u001b[0m",
      "\u001b[0;31mTypeError\u001b[0m                                 Traceback (most recent call last)",
      "\u001b[0;32m<timed exec>\u001b[0m in \u001b[0;36m<module>\u001b[0;34m()\u001b[0m\n",
      "\u001b[0;31mTypeError\u001b[0m: 'ApplyResult' object does not support indexing"
     ],
     "output_type": "error"
    }
   ],
   "source": [
    "%%time\n",
    "# set interval to 1 request per second\n",
    "# record data\n",
    "# record success/fail\n",
    "# ConnectionException\n",
    "\n",
    "from pymodbus.client.sync import ModbusTcpClient\n",
    "from multiprocessing import Pool, TimeoutError\n",
    "from time import sleep\n",
    "import os\n",
    "\n",
    "def rhr_cycle(ip, port, address=0, count=124, unit=1):\n",
    "    client = ModbusTcpClient(ip, port=port)\n",
    "    reg = client.read_holding_registers(address=address, count=count, unit=unit).registers\n",
    "    ret_string = 'ppid:{} | pid:{} | port:{} | register:{}'.format(os.getppid(), os.getpid(), port, reg)\n",
    "    client.close()\n",
    "    print(ret_string)\n",
    "    return ret_string\n",
    "\n",
    "if __name__ == \"__main__\":\n",
    "    \n",
    "    ip = '192.168.0.52'\n",
    "    ports = range(502,508)\n",
    "    timer = 5 # in seconds\n",
    "    \n",
    "    with Pool(processes=6) as pool:\n",
    "        results = [pool.apply_async(rhr_cycle, args=(ip,port)) for port in ports]\n",
    "        \n",
    "        #sleep(3)\n",
    "        for result in results:\n",
    "            print(result[0])\n",
    "    print(\"Done!\")"
   ]
  },
  {
   "cell_type": "code",
   "execution_count": null,
   "metadata": {},
   "outputs": [],
   "source": []
  },
  {
   "cell_type": "markdown",
   "metadata": {},
   "source": [
    "# Further testing"
   ]
  },
  {
   "cell_type": "code",
   "execution_count": 111,
   "metadata": {},
   "outputs": [
    {
     "ename": "ConnectionException",
     "evalue": "Modbus Error: [Connection] Failed to connect[192.168.0.52:502]",
     "traceback": [
      "\u001b[0;31m---------------------------------------------------------------------------\u001b[0m",
      "\u001b[0;31mRemoteTraceback\u001b[0m                           Traceback (most recent call last)",
      "\u001b[0;31mRemoteTraceback\u001b[0m: \n\"\"\"\nTraceback (most recent call last):\n  File \"/home/eric/anaconda3/lib/python3.6/multiprocessing/pool.py\", line 119, in worker\n    result = (True, func(*args, **kwds))\n  File \"<timed exec>\", line 10, in rhr_cycle\n  File \"/home/eric/anaconda3/lib/python3.6/site-packages/pymodbus/client/common.py\", line 109, in read_holding_registers\n    return self.execute(request)\n  File \"/home/eric/anaconda3/lib/python3.6/site-packages/pymodbus/client/sync.py\", line 84, in execute\n    raise ConnectionException(\"Failed to connect[%s]\" % (self.__str__()))\npymodbus.exceptions.ConnectionException: Modbus Error: [Connection] Failed to connect[192.168.0.52:502]\n\"\"\"",
      "\nThe above exception was the direct cause of the following exception:\n",
      "\u001b[0;31mConnectionException\u001b[0m                       Traceback (most recent call last)",
      "\u001b[0;32m<timed exec>\u001b[0m in \u001b[0;36m<module>\u001b[0;34m()\u001b[0m\n",
      "\u001b[0;32m~/anaconda3/lib/python3.6/multiprocessing/pool.py\u001b[0m in \u001b[0;36mget\u001b[0;34m(self, timeout)\u001b[0m\n\u001b[1;32m    642\u001b[0m             \u001b[0;32mreturn\u001b[0m \u001b[0mself\u001b[0m\u001b[0;34m.\u001b[0m\u001b[0m_value\u001b[0m\u001b[0;34m\u001b[0m\u001b[0m\n\u001b[1;32m    643\u001b[0m         \u001b[0;32melse\u001b[0m\u001b[0;34m:\u001b[0m\u001b[0;34m\u001b[0m\u001b[0m\n\u001b[0;32m--> 644\u001b[0;31m             \u001b[0;32mraise\u001b[0m \u001b[0mself\u001b[0m\u001b[0;34m.\u001b[0m\u001b[0m_value\u001b[0m\u001b[0;34m\u001b[0m\u001b[0m\n\u001b[0m\u001b[1;32m    645\u001b[0m \u001b[0;34m\u001b[0m\u001b[0m\n\u001b[1;32m    646\u001b[0m     \u001b[0;32mdef\u001b[0m \u001b[0m_set\u001b[0m\u001b[0;34m(\u001b[0m\u001b[0mself\u001b[0m\u001b[0;34m,\u001b[0m \u001b[0mi\u001b[0m\u001b[0;34m,\u001b[0m \u001b[0mobj\u001b[0m\u001b[0;34m)\u001b[0m\u001b[0;34m:\u001b[0m\u001b[0;34m\u001b[0m\u001b[0m\n",
      "\u001b[0;31mConnectionException\u001b[0m: Modbus Error: [Connection] Failed to connect[192.168.0.52:502]"
     ],
     "output_type": "error"
    }
   ],
   "source": [
    "%%time\n",
    "# CPU times: user 8 ms, sys: 16 ms, total: 24 ms\n",
    "# Wall time: 22.3 ms\n",
    "\n",
    "from pymodbus.client.sync import ModbusTcpClient\n",
    "from multiprocessing import Pool, TimeoutError\n",
    "import os \n",
    "\n",
    "def rhr_cycle(ip, port, address=0, count=124, unit=1):\n",
    "    client = ModbusTcpClient(ip, port=port)\n",
    "    reg = client.read_holding_registers(address=address, count=count, unit=unit).registers\n",
    "    ret_string = 'ppid:{} | pid:{} | port:{} | register:{}'.format(os.getppid(), os.getpid(), port, reg)\n",
    "    client.close()\n",
    "    return ret_string\n",
    "\n",
    "if __name__ == \"__main__\":\n",
    "    \n",
    "    ip = '192.168.0.52'\n",
    "    ports = range(502,508)\n",
    "    results = []\n",
    "    with Pool(processes=8) as pool:\n",
    "        results = [pool.apply_async(rhr_cycle, args=(ip,port)) for port in ports]\n",
    "        \n",
    "        for result in results:\n",
    "            print(result.get())\n",
    "    print(\"Done!\")"
   ]
  },
  {
   "cell_type": "code",
   "execution_count": null,
   "metadata": {},
   "outputs": [],
   "source": []
  },
  {
   "cell_type": "code",
   "execution_count": null,
   "metadata": {},
   "outputs": [],
   "source": []
  }
 ],
 "metadata": {
  "kernelspec": {
   "display_name": "Python 3",
   "language": "python",
   "name": "python3"
  },
  "language_info": {
   "codemirror_mode": {
    "name": "ipython",
    "version": 3
   },
   "file_extension": ".py",
   "mimetype": "text/x-python",
   "name": "python",
   "nbconvert_exporter": "python",
   "pygments_lexer": "ipython3",
   "version": "3.6.3"
  }
 },
 "nbformat": 4,
 "nbformat_minor": 2
}
