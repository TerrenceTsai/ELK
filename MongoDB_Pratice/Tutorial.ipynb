{
 "cells": [
  {
   "cell_type": "markdown",
   "metadata": {},
   "source": [
    "# Mongo"
   ]
  },
  {
   "cell_type": "code",
   "execution_count": 1,
   "metadata": {},
   "outputs": [],
   "source": [
    "from pymongo import MongoClient\n",
    "# pprint library is used to make the output look more pretty\n",
    "from pprint import pprint\n",
    "# connect to MongoDB, change the << MONGODB URL >> to reflect your own connection string\n",
    "client = MongoClient('localhost', 27017)\n",
    "db=client.admin\n",
    "# Issue the serverStatus command and print the results\n",
    "serverStatusResult=db.command(\"serverStatus\")\n",
    "#pprint(serverStatusResult)\n"
   ]
  },
  {
   "cell_type": "code",
   "execution_count": 7,
   "metadata": {},
   "outputs": [
    {
     "name": "stdout",
     "output_type": "stream",
     "text": [
      "db.Terrencedb\n"
     ]
    }
   ],
   "source": [
    "from pymongo import MongoClient\n",
    "# pprint library is used to make the output look more pretty\n",
    "from pprint import pprint\n",
    "# connect to MongoDB, change the << MONGODB URL >> to reflect your own connection string\n",
    "conn = MongoClient('localhost', 27017)\n",
    "db=conn.test\n",
    "print(\"db.Terrencedb\")\n",
    "array= db.Terrencedb.find()\n",
    "for doc in array:\n",
    "    print(doc)"
   ]
  },
  {
   "cell_type": "code",
   "execution_count": null,
   "metadata": {},
   "outputs": [],
   "source": [
    "\n"
   ]
  }
 ],
 "metadata": {
  "kernelspec": {
   "display_name": "Python 3",
   "language": "python",
   "name": "python3"
  },
  "language_info": {
   "codemirror_mode": {
    "name": "ipython",
    "version": 2
   },
   "file_extension": ".py",
   "mimetype": "text/x-python",
   "name": "python",
   "nbconvert_exporter": "python",
   "pygments_lexer": "ipython2",
   "version": "2.7.12"
  }
 },
 "nbformat": 4,
 "nbformat_minor": 2
}
