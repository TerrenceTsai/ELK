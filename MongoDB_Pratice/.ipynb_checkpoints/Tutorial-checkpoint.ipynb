{
 "cells": [
  {
   "cell_type": "markdown",
   "metadata": {},
   "source": [
    "# Mongo"
   ]
  },
  {
   "cell_type": "code",
   "execution_count": 1,
   "metadata": {},
   "outputs": [],
   "source": [
    "from pymongo import MongoClient\n",
    "# pprint library is used to make the output look more pretty\n",
    "from pprint import pprint\n",
    "# connect to MongoDB, change the << MONGODB URL >> to reflect your own connection string\n",
    "client = MongoClient('localhost', 27017)\n",
    "db=client.admin\n",
    "# Issue the serverStatus command and print the results\n",
    "serverStatusResult=db.command(\"serverStatus\")\n",
    "#pprint(serverStatusResult)\n"
   ]
  },
  {
   "cell_type": "markdown",
   "metadata": {},
   "source": [
    "# Collection way & Create"
   ]
  },
  {
   "cell_type": "code",
   "execution_count": 18,
   "metadata": {},
   "outputs": [
    {
     "name": "stdout",
     "output_type": "stream",
     "text": [
      "{u'_id': ObjectId('5a683b3a3d945405e26c390a'), u'name': u'Lucy', u'sex': u'female'}\n",
      "{u'_id': ObjectId('5a683b623d945405e26c390c'), u'name': u'Lucy', u'sex': u'female'}\n",
      "{u'_id': ObjectId('5a683b7a3d945405e26c390e'), u'name': u'Lucy', u'sex': u'female'}\n",
      "{u'_id': ObjectId('5a683bc03d945405e26c3910'), u'name': u'Lucy', u'sex': u'female'}\n",
      "{u'_id': ObjectId('5a683be23d945405e26c3912'), u'name': u'Lucy', u'sex': u'female'}\n",
      "{u'_id': ObjectId('5a683bea3d945405e26c3914'), u'name': u'Lucy', u'sex': u'female'}\n",
      "{u'_id': ObjectId('5a683c2e3d945405e26c3916'), u'name': u'Lucy', u'sex': u'female'}\n"
     ]
    }
   ],
   "source": [
    "from pymongo import MongoClient\n",
    "# pprint library is used to make the output look more pretty\n",
    "from pprint import pprint\n",
    "# connect to MongoDB, change the << MONGODB URL >> to reflect your own connection string\n",
    "conn = MongoClient('localhost', 27017)\n",
    "db=conn.test_0124\n",
    "mydict = {\"name\":\"Lucy\", \"sex\": \"female\"}\n",
    "db.coo.insert_one(mydict)\n",
    "array= db.coo.find()\n",
    "\n",
    "for doc in array:\n",
    "    print(doc)"
   ]
  },
  {
   "cell_type": "code",
   "execution_count": 23,
   "metadata": {},
   "outputs": [
    {
     "name": "stdout",
     "output_type": "stream",
     "text": [
      "{u'age': 25, u'_id': ObjectId('5a6189913d94544cab359bf4'), u'name': u'Andy', u'address': u'Taiper'}\n",
      "{u'age': 25, u'_id': ObjectId('5a6189ff3d94544d0033b8a3'), u'name': u'Andy', u'address': u'Taiper'}\n",
      "{u'age': 25, u'_id': ObjectId('5a6189ff3d94544d0033b8a4'), u'name': u'Andy', u'address': u'Taiper'}\n",
      "{u'age': 25, u'_id': ObjectId('5a6189ff3d94544d0033b8a5'), u'name': u'Andy', u'address': u'Taiper'}\n",
      "{u'age': 25, u'_id': ObjectId('5a618a563d94544d550d1350'), u'name': u'Andy', u'address': u'Taiper'}\n",
      "{u'age': 25, u'_id': ObjectId('5a618a563d94544d550d1351'), u'name': u'Andy', u'address': u'Taiper'}\n",
      "{u'age': 25, u'_id': ObjectId('5a618a563d94544d550d1352'), u'name': u'Andy', u'address': u'Taiper'}\n",
      "{u'timestamp': u'datetime.utcnow()', u'age': 25, u'_id': ObjectId('5a618b433d94544e06a646cb'), u'name': u'Andy', u'address': u'Taiper'}\n",
      "{u'timestamp': u'datetime.utcnow()', u'age': 25, u'_id': ObjectId('5a618b433d94544e06a646cc'), u'name': u'Andy', u'address': u'Taiper'}\n",
      "{u'timestamp': u'datetime.utcnow()', u'age': 25, u'_id': ObjectId('5a618b433d94544e06a646cd'), u'name': u'Andy', u'address': u'Taiper'}\n",
      "{u'hits': {u'hits': [{u'_score': 1.0, u'_type': u'document', u'_id': u'2043194061964423798', u'_source': {u'LSP': 0.9968171119689941}, u'_index': u'plc-2018.01.15'}, {u'_score': 1.0, u'_type': u'document', u'_id': u'-6640593083751936935', u'_source': {u'LSP': 0.9592013359069824}, u'_index': u'plc-2018.01.15'}, {u'_score': 1.0, u'_type': u'document', u'_id': u'-4596015422958699337', u'_source': {u'LSP': 0.8839699029922485}, u'_index': u'plc-2018.01.15'}, {u'_score': 1.0, u'_type': u'document', u'_id': u'1447551420742462302', u'_source': {u'LSP': 0.9403935074806213}, u'_index': u'plc-2018.01.15'}, {u'_score': 1.0, u'_type': u'document', u'_id': u'-553027153711730146', u'_source': {u'LSP': 0.9403935074806213}, u'_index': u'plc-2018.01.15'}, {u'_score': 1.0, u'_type': u'document', u'_id': u'-3264471132837399971', u'_source': {u'LSP': 0.7711226940155029}, u'_index': u'plc-2018.01.15'}, {u'_score': 1.0, u'_type': u'document', u'_id': u'-3574050056300323925', u'_source': {u'LSP': 0.8651620745658875}, u'_index': u'plc-2018.01.15'}, {u'_score': 1.0, u'_type': u'document', u'_id': u'2739822683103305794', u'_source': {u'LSP': 0.9027777910232544}, u'_index': u'plc-2018.01.15'}, {u'_score': 1.0, u'_type': u'document', u'_id': u'8234498293048871368', u'_source': {u'LSP': 0.9780092835426331}, u'_index': u'plc-2018.01.15'}, {u'_score': 1.0, u'_type': u'document', u'_id': u'-6516897863593311085', u'_source': {u'LSP': 0.9215856194496155}, u'_index': u'plc-2018.01.15'}], u'total': 32461, u'max_score': 1.0}, u'_id': ObjectId('5a61997f3d945452e1a2c0df'), u'_shards': {u'successful': 340, u'failed': 0, u'skipped': 330, u'total': 340}, u'took': 9, u'timed_out': False}\n",
      "{u'hits': {u'hits': [], u'total': 19117, u'max_score': 0.0}, u'took': 4, u'_shards': {u'successful': 365, u'failed': 0, u'skipped': 360, u'total': 365}, u'aggregations': {u'Std_self': {u'count': 19117, u'min': 0.0, u'sum_of_squares': 24669.811015262432, u'max': 6.199999809265137, u'sum': 6254.3001317977905, u'std_deviation': 1.0878563772530505, u'std_deviation_bounds': {u'upper': 2.502871834476692, u'lower': -1.84855367453551}, u'variance': 1.1834314975301312, u'avg': 0.3271590799705911}}, u'timed_out': False, u'_id': ObjectId('5a6815be3d94540c96ab96f7')}\n",
      "{u'hits': {u'hits': [], u'total': 19117, u'max_score': 0.0}, u'took': 7, u'_shards': {u'successful': 365, u'failed': 0, u'skipped': 360, u'total': 365}, u'aggregations': {u'Std_self': {u'count': 19117, u'min': 0.0, u'sum_of_squares': 24669.811015262432, u'max': 6.199999809265137, u'sum': 6254.3001317977905, u'std_deviation': 1.0878563772530505, u'std_deviation_bounds': {u'upper': 2.502871834476692, u'lower': -1.84855367453551}, u'variance': 1.1834314975301312, u'avg': 0.3271590799705911}}, u'timed_out': False, u'_id': ObjectId('5a6816903d94540cf15e3da8')}\n"
     ]
    }
   ],
   "source": [
    "\n",
    "from pymongo import MongoClient\n",
    "# pprint library is used to make the output look more pretty\n",
    "from pprint import pprint\n",
    "# connect to MongoDB, change the << MONGODB URL >> to reflect your own connection string\n",
    "conn = MongoClient('localhost', 27017)\n",
    "db=conn.elasticdb\n",
    "mydict = {\"name\":\"Lucy\", \"sex\": \"female\"}\n",
    "#db.coo.insert_one(mydict)\n",
    "\n",
    "array_count=db.col.count()\n",
    "array= db.col.find()[5:array_count]\n",
    "for doc in array:\n",
    "    print(doc)"
   ]
  },
  {
   "cell_type": "code",
   "execution_count": null,
   "metadata": {},
   "outputs": [],
   "source": []
  }
 ],
 "metadata": {
  "kernelspec": {
   "display_name": "Python 3",
   "language": "python",
   "name": "python3"
  },
  "language_info": {
   "codemirror_mode": {
    "name": "ipython",
    "version": 2
   },
   "file_extension": ".py",
   "mimetype": "text/x-python",
   "name": "python",
   "nbconvert_exporter": "python",
   "pygments_lexer": "ipython2",
   "version": "2.7.12"
  }
 },
 "nbformat": 4,
 "nbformat_minor": 2
}
