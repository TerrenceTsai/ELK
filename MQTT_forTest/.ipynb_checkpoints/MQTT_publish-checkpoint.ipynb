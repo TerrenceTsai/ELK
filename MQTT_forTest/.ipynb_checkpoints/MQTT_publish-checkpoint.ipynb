{
 "cells": [
  {
   "cell_type": "code",
   "execution_count": 42,
   "metadata": {},
   "outputs": [
    {
     "data": {
      "text/plain": [
       "<paho.mqtt.client.MQTTMessageInfo at 0x7f3464091f18>"
      ]
     },
     "execution_count": 42,
     "metadata": {},
     "output_type": "execute_result"
    }
   ],
   "source": [
    "#import context  # Ensures paho is in PYTHONPATH\n",
    "import paho.mqtt.publish as publish\n",
    "\n",
    "# -*- coding: utf-8 -*-\n",
    "import paho.mqtt.client as mqtt\n",
    "import json\n",
    "\n",
    "actions={\"type\":111,\"name\":333}\n",
    "\n",
    "mqttc = mqtt.Client()\n",
    "mqttc.connect(\"iot.eclipse.org\", 1883,60)\n",
    "mqttc.publish(\"house/bulbs/123\", json.dumps(actions, sort_keys=True, indent=4))\n",
    "#mqttc.loop_forever()\n",
    "#mqttc.loop(2) #timeout = 2s"
   ]
  },
  {
   "cell_type": "code",
   "execution_count": 35,
   "metadata": {},
   "outputs": [
    {
     "name": "stdout",
     "output_type": "stream",
     "text": [
      "creating new instance\n",
      "connecting to broker\n",
      "('log: ', 'Sending CONNECT (u0, p0, wr0, wq0, wf0, c1, k60) client_id=')\n",
      "('Subscribing to topic', 'house/bulbs/bulb1')\n",
      "('log: ', \"Sending SUBSCRIBE (d0) [('house/bulbs/bulb1', 0)]\")\n",
      "('Publishing message to topic', 'house/bulbs/bulb1')\n",
      "('log: ', \"Sending PUBLISH (d0, q0, r0, m2), 'house/bulbs/bulb1', ... (37 bytes)\")\n",
      "('log: ', 'Received CONNACK (0, 0)')\n",
      "('log: ', 'Received SUBACK')\n",
      "('log: ', \"Received PUBLISH (d0, q0, r0, m0), 'house/bulbs/bulb1', ...  (37 bytes)\")\n",
      "('message received ', '{\\n    \"name\": 222, \\n    \"type\": 111\\n}')\n",
      "('message received ', \"{u'type': 111, u'name': 222}\")\n",
      "('message topic=', u'house/bulbs/bulb1')\n",
      "('message qos=', 0)\n",
      "('message retain flag=', 0)\n"
     ]
    }
   ],
   "source": [
    "import paho.mqtt.client as mqtt #import the client1\n",
    "import time\n",
    "import json\n",
    "############\n",
    "def on_message(client, userdata, message):\n",
    "    print(\"message received \" ,str(message.payload.decode(\"utf-8\")))\n",
    "    print(\"message received \" ,str(json.loads(message.payload)))\n",
    "    print(\"message topic=\",message.topic)\n",
    "    print(\"message qos=\",message.qos)\n",
    "    print(\"message retain flag=\",message.retain)\n",
    "def on_log(client, userdata, level, buf):\n",
    "    print(\"log: \",buf)\n",
    "########################################\n",
    "actions={\"type\":111,\"name\":222}\n",
    "#broker_address=\"192.168.1.184\"\n",
    "broker_address=\"iot.eclipse.org\"\n",
    "print(\"creating new instance\")\n",
    "client = mqtt.Client() #create new instance\n",
    "\n",
    "########################################\n",
    "client.on_message=on_message #attach function to callback\n",
    "client.on_log=on_log\n",
    "########################################\n",
    "print(\"connecting to broker\")\n",
    "client.connect(broker_address) #connect to broker\n",
    "client.loop_start() #start the loop\n",
    "########################################\n",
    "print(\"Subscribing to topic\",\"house/bulbs/bulb1\")\n",
    "client.subscribe(\"house/bulbs/bulb1\")\n",
    "########################################\n",
    "print(\"Publishing message to topic\",\"house/bulbs/bulb1\")\n",
    "client.publish(\"house/bulbs/bulb1\",json.dumps(actions, sort_keys=True, indent=4))\n",
    "time.sleep(4) # wait\n",
    "client.loop_stop() #stop the loop"
   ]
  },
  {
   "cell_type": "code",
   "execution_count": 28,
   "metadata": {},
   "outputs": [
    {
     "name": "stdout",
     "output_type": "stream",
     "text": [
      "<type 'dict'>\n"
     ]
    }
   ],
   "source": [
    "actions={\"type\":111,\"name\":222}\n",
    "print(type(actions))"
   ]
  },
  {
   "cell_type": "code",
   "execution_count": 21,
   "metadata": {},
   "outputs": [
    {
     "name": "stdout",
     "output_type": "stream",
     "text": [
      "creating new instance\n",
      "connecting to broker\n",
      "('log: ', 'Sending CONNECT (u0, p0, wr0, wq0, wf0, c1, k60) client_id=')\n",
      "('Subscribing to topic', 'house/bulbs/bulb1')\n",
      "('log: ', \"Sending SUBSCRIBE (d0) [('house/bulbs/bulb1', 0)]\")\n",
      "('Publishing message to topic', 'house/bulbs/bulb1')\n",
      "('log: ', \"Sending PUBLISH (d0, q0, r0, m2), 'house/bulbs/bulb1', ... (3 bytes)\")\n",
      "('log: ', 'Received CONNACK (0, 0)')\n",
      "('log: ', 'Received SUBACK')\n",
      "('log: ', \"Received PUBLISH (d0, q0, r0, m0), 'house/bulbs/bulb1', ...  (3 bytes)\")\n",
      "('message received ', 'OFF')\n",
      "('message topic=', u'house/bulbs/bulb1')\n",
      "('message qos=', 0)\n",
      "('message retain flag=', 0)\n"
     ]
    }
   ],
   "source": [
    "-"
   ]
  },
  {
   "cell_type": "code",
   "execution_count": null,
   "metadata": {},
   "outputs": [],
   "source": []
  }
 ],
 "metadata": {
  "kernelspec": {
   "display_name": "Python 3",
   "language": "python",
   "name": "python3"
  },
  "language_info": {
   "codemirror_mode": {
    "name": "ipython",
    "version": 2
   },
   "file_extension": ".py",
   "mimetype": "text/x-python",
   "name": "python",
   "nbconvert_exporter": "python",
   "pygments_lexer": "ipython2",
   "version": "2.7.12"
  }
 },
 "nbformat": 4,
 "nbformat_minor": 2
}
